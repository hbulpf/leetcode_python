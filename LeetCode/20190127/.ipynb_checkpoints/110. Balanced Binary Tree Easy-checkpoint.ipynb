{
 "cells": [
  {
   "cell_type": "code",
   "execution_count": null,
   "metadata": {},
   "outputs": [],
   "source": [
    "# Definition for a binary tree node.\n",
    "# class TreeNode(object):\n",
    "#     def __init__(self, x):\n",
    "#         self.val = x\n",
    "#         self.left = None\n",
    "#         self.right = None\n",
    "\n",
    "class Solution(object):\n",
    "    def isBalanced(self, root):\n",
    "        def getHeight(root):\n",
    "            if not root:\n",
    "                return 0\n",
    "            if root in heights:\n",
    "                return heights[root]\n",
    "            heights[root] = 1 + max(getHeight(root.left), getHeight(root.right))\n",
    "            return heights[root]\n",
    "\n",
    "    \tdef isBalanced_recur(root):\n",
    "    \t\tif not root:\n",
    "    \t\t\treturn True\n",
    "    \t\tl, r = getHeight(root.left), getHeight(root.right)\n",
    "    \t\tif abs(l - r) > 1:\n",
    "    \t\t\treturn False\n",
    "\t    \treturn isBalanced_recur(root.left) and isBalanced_recur(root.right)\n",
    "\n",
    "    \theights = dict()\n",
    "    \treturn isBalanced_recur(root)"
   ]
  }
 ],
 "metadata": {
  "kernelspec": {
   "display_name": "Python 3",
   "language": "python",
   "name": "python3"
  },
  "language_info": {
   "codemirror_mode": {
    "name": "ipython",
    "version": 3
   },
   "file_extension": ".py",
   "mimetype": "text/x-python",
   "name": "python",
   "nbconvert_exporter": "python",
   "pygments_lexer": "ipython3",
   "version": "3.7.1"
  }
 },
 "nbformat": 4,
 "nbformat_minor": 2
}
