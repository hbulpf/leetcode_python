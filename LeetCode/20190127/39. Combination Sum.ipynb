{
 "cells": [
  {
   "cell_type": "code",
   "execution_count": null,
   "metadata": {},
   "outputs": [],
   "source": [
    "class Solution(object):\n",
    "    def combinationSum(self, candidates, target):\n",
    "        \"\"\"\n",
    "        :type candidates: List[int]\n",
    "        :type target: int\n",
    "        :rtype: List[List[int]]\n",
    "        \"\"\"\n",
    "        def comb(tar):\n",
    "            if tar < min(candidates):\n",
    "                return []\n",
    "            re = []\n",
    "            for v in candidates:\n",
    "                b = comb(tar-v)\n",
    "                if tar-v == 0:\n",
    "                    b = [[v]]\n",
    "                else:\n",
    "                    for i in range(len(b)):\n",
    "                        b[i].append(v)\n",
    "                re += b\n",
    "            return re\n",
    "        \n",
    "        a = comb(target)\n",
    "        b = []\n",
    "        for v in a:\n",
    "            v.sort()\n",
    "            if not v in b:\n",
    "                b.append(v)\n",
    "        return b        "
   ]
  }
 ],
 "metadata": {
  "kernelspec": {
   "display_name": "Python 3",
   "language": "python",
   "name": "python3"
  },
  "language_info": {
   "codemirror_mode": {
    "name": "ipython",
    "version": 3
   },
   "file_extension": ".py",
   "mimetype": "text/x-python",
   "name": "python",
   "nbconvert_exporter": "python",
   "pygments_lexer": "ipython3",
   "version": "3.7.1"
  }
 },
 "nbformat": 4,
 "nbformat_minor": 2
}
