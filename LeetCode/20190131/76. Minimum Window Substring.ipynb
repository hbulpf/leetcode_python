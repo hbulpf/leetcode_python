{
 "cells": [
  {
   "cell_type": "code",
   "execution_count": null,
   "metadata": {},
   "outputs": [],
   "source": [
    "class Solution:\n",
    "    def minWindow(self, s, t):\n",
    "        \"\"\"\n",
    "        :type s: str\n",
    "        :type t: str\n",
    "        :rtype: str\n",
    "        \"\"\"\n",
    "        count = collections.Counter(t)\n",
    "        miss = len(t)\n",
    "        i = m = n = 0\n",
    "        for j,v in enumerate(s,1):\n",
    "            miss -= (count[v] > 0)\n",
    "            count[v] -= 1\n",
    "            if not miss:\n",
    "                while i<j and count[s[i]] < 0:\n",
    "                    count[s[i]] += 1\n",
    "                    i += 1\n",
    "                if not n or j-i <= n-m:\n",
    "                    n,m = j,i\n",
    "        return s[m:n]"
   ]
  }
 ],
 "metadata": {
  "kernelspec": {
   "display_name": "Python 3",
   "language": "python",
   "name": "python3"
  },
  "language_info": {
   "codemirror_mode": {
    "name": "ipython",
    "version": 3
   },
   "file_extension": ".py",
   "mimetype": "text/x-python",
   "name": "python",
   "nbconvert_exporter": "python",
   "pygments_lexer": "ipython3",
   "version": "3.7.1"
  }
 },
 "nbformat": 4,
 "nbformat_minor": 2
}
