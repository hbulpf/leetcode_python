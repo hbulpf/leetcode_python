{
 "cells": [
  {
   "cell_type": "code",
   "execution_count": 9,
   "metadata": {},
   "outputs": [
    {
     "name": "stdout",
     "output_type": "stream",
     "text": [
      "0 0\n",
      "9 1\n",
      "0\n",
      "0\n",
      "1\n"
     ]
    }
   ],
   "source": [
    "# Definition for singly-linked list.\n",
    "# class ListNode:\n",
    "#     def __init__(self, x):\n",
    "#         self.val = x\n",
    "#         self.next = None\n",
    "\n",
    "class Solution:\n",
    "    def addTwoNumbers(self, l1, l2):\n",
    "        \"\"\"\n",
    "        :type l1: ListNode\n",
    "        :type l2: ListNode\n",
    "        :rtype: ListNode\n",
    "        \"\"\"\n",
    "        p = l1\n",
    "        q = l2\n",
    "        l = h = ListNode(0)\n",
    "        t = 0\n",
    "        while p and q:\n",
    "            h.next = ListNode((p.val+q.val+t) % 10)\n",
    "            t = (p.val+q.val+t)//10\n",
    "            h = h.next\n",
    "            p = p.next\n",
    "            q = q.next\n",
    "        if not p and not q:\n",
    "            if t == 0:\n",
    "                return l.next\n",
    "            else:\n",
    "                h.next = ListNode(1)\n",
    "                return l.next\n",
    "        elif q:\n",
    "            p = q\n",
    "        while p:\n",
    "            h.next = ListNode((p.val+t)% 10)\n",
    "            t = (p.val + t) // 10\n",
    "            h = h.next\n",
    "            p = p.next\n",
    "        if t:\n",
    "            h.next = ListNode(1)\n",
    "        return l.next\n",
    "        "
   ]
  },
  {
   "cell_type": "code",
   "execution_count": null,
   "metadata": {},
   "outputs": [],
   "source": []
  }
 ],
 "metadata": {
  "kernelspec": {
   "display_name": "Python 3",
   "language": "python",
   "name": "python3"
  },
  "language_info": {
   "codemirror_mode": {
    "name": "ipython",
    "version": 3
   },
   "file_extension": ".py",
   "mimetype": "text/x-python",
   "name": "python",
   "nbconvert_exporter": "python",
   "pygments_lexer": "ipython3",
   "version": "3.7.1"
  }
 },
 "nbformat": 4,
 "nbformat_minor": 2
}
