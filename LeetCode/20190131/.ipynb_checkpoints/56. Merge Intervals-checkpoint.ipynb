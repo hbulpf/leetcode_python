{
 "cells": [
  {
   "cell_type": "code",
   "execution_count": null,
   "metadata": {},
   "outputs": [],
   "source": [
    "# Definition for an interval.\n",
    "# class Interval:\n",
    "#     def __init__(self, s=0, e=0):\n",
    "#         self.start = s\n",
    "#         self.end = e\n",
    "\n",
    "class Solution:\n",
    "    def merge(self, intervals):\n",
    "        \"\"\"\n",
    "        :type intervals: List[Interval]\n",
    "        :rtype: List[Interval]\n",
    "        \"\"\"\n",
    "        if not intervals:\n",
    "            return []\n",
    "        l = []\n",
    "        while len(intervals) > 1:\n",
    "            a = intervals.pop(0)\n",
    "            flag = 0\n",
    "            for v in intervals:\n",
    "                if v.start<=a.start<=v.end or v.start<=a.end<=v.end or a.start<=v.start<=a.end or a.start<=v.end<=a.end:\n",
    "                    v.end = max(a.end, v.end)\n",
    "                    v.start = min(a.start, v.start)\n",
    "                    flag = 1\n",
    "                    break\n",
    "            if flag == 0:\n",
    "                l.append(a)\n",
    "        l.append(intervals[0])\n",
    "        return l"
   ]
  }
 ],
 "metadata": {
  "kernelspec": {
   "display_name": "Python 3",
   "language": "python",
   "name": "python3"
  },
  "language_info": {
   "codemirror_mode": {
    "name": "ipython",
    "version": 3
   },
   "file_extension": ".py",
   "mimetype": "text/x-python",
   "name": "python",
   "nbconvert_exporter": "python",
   "pygments_lexer": "ipython3",
   "version": "3.7.1"
  }
 },
 "nbformat": 4,
 "nbformat_minor": 2
}
