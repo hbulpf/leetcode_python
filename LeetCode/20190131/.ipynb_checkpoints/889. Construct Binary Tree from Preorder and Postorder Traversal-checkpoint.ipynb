{
 "cells": [
  {
   "cell_type": "code",
   "execution_count": null,
   "metadata": {},
   "outputs": [],
   "source": [
    "# Definition for a binary tree node.\n",
    "# class TreeNode:\n",
    "#     def __init__(self, x):\n",
    "#         self.val = x\n",
    "#         self.left = None\n",
    "#         self.right = None\n",
    "\n",
    "class Solution:\n",
    "    def constructFromPrePost(self, pre, post):\n",
    "        \"\"\"\n",
    "        :type pre: List[int]\n",
    "        :type post: List[int]\n",
    "        :rtype: TreeNode\n",
    "        \"\"\"\n",
    "        if not pre or not post:\n",
    "            return None\n",
    "        m = pre.pop(0)\n",
    "        post.pop()\n",
    "        root = TreeNode(m)\n",
    "        n = len(pre)\n",
    "        if n > 1:\n",
    "            for i in range(1,n+1):\n",
    "                if set(pre[:i]) == set(post[:i]):\n",
    "                    break \n",
    "        else:\n",
    "            i = 0\n",
    "        root.left = self.constructFromPrePost(pre[:i], post[:i])\n",
    "        root.right = self.constructFromPrePost(pre[i:], post[i:])\n",
    "        return root"
   ]
  }
 ],
 "metadata": {
  "kernelspec": {
   "display_name": "Python 3",
   "language": "python",
   "name": "python3"
  },
  "language_info": {
   "codemirror_mode": {
    "name": "ipython",
    "version": 3
   },
   "file_extension": ".py",
   "mimetype": "text/x-python",
   "name": "python",
   "nbconvert_exporter": "python",
   "pygments_lexer": "ipython3",
   "version": "3.7.1"
  }
 },
 "nbformat": 4,
 "nbformat_minor": 2
}
