{
 "cells": [
  {
   "cell_type": "code",
   "execution_count": null,
   "metadata": {},
   "outputs": [],
   "source": [
    "class Solution:\n",
    "    def letterCombinations(self, digits):\n",
    "        \"\"\"\n",
    "        :type digits: str\n",
    "        :rtype: List[str]\n",
    "        \"\"\"\n",
    "        d = {'2':('a','b','c'), '3':('d','e','f'), '4':('g','h','i'), '5':('j','k','l'), '6':('m','n','o'), '7':('p','q','r','s'), '8':('t','u','v'), '9':('w','x','y','z')}\n",
    "        \n",
    "        l = []\n",
    "        if len(digits) == 0:\n",
    "            return []\n",
    "        for b in d[digits[0]]:\n",
    "            l.append(b)\n",
    "        if len(digits) == 1:\n",
    "            return l\n",
    "        for v in digits[1:]:\n",
    "            l1 = []\n",
    "            for a in l:\n",
    "                for b in d[v]:\n",
    "                    l1.append(a+b)\n",
    "            l = l1\n",
    "        return l"
   ]
  }
 ],
 "metadata": {
  "kernelspec": {
   "display_name": "Python 3",
   "language": "python",
   "name": "python3"
  },
  "language_info": {
   "codemirror_mode": {
    "name": "ipython",
    "version": 3
   },
   "file_extension": ".py",
   "mimetype": "text/x-python",
   "name": "python",
   "nbconvert_exporter": "python",
   "pygments_lexer": "ipython3",
   "version": "3.7.1"
  }
 },
 "nbformat": 4,
 "nbformat_minor": 2
}
