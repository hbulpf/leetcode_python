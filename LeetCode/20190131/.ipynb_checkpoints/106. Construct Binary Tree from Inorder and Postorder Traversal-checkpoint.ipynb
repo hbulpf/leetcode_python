{
 "cells": [
  {
   "cell_type": "code",
   "execution_count": null,
   "metadata": {},
   "outputs": [],
   "source": [
    "# Definition for a binary tree node.\n",
    "# class TreeNode:\n",
    "#     def __init__(self, x):\n",
    "#         self.val = x\n",
    "#         self.left = None\n",
    "#         self.right = None\n",
    "\n",
    "class Solution:\n",
    "    def buildTree(self, inorder, postorder):\n",
    "        \"\"\"\n",
    "        :type inorder: List[int]\n",
    "        :type postorder: List[int]\n",
    "        :rtype: TreeNode\n",
    "        \"\"\"\n",
    "        if not inorder or not postorder:\n",
    "            return None\n",
    "        m = postorder.pop()\n",
    "        inindex = inorder.index(m)\n",
    "        root = TreeNode(m)\n",
    "        inorder1 = inorder[:inindex]\n",
    "        inorder2 = inorder[inindex+1:]\n",
    "        root.right = self.buildTree(inorder2, postorder)\n",
    "        root.left = self.buildTree(inorder1, postorder)\n",
    "        return root"
   ]
  },
  {
   "cell_type": "code",
   "execution_count": null,
   "metadata": {},
   "outputs": [],
   "source": [
    "# Definition for a binary tree node.\n",
    "# class TreeNode:\n",
    "#     def __init__(self, x):\n",
    "#         self.val = x\n",
    "#         self.left = None\n",
    "#         self.right = None\n",
    "\n",
    "class Solution:\n",
    "    def buildTree(self, inorder, postorder):\n",
    "        \"\"\"\n",
    "        :type inorder: List[int]\n",
    "        :type postorder: List[int]\n",
    "        :rtype: TreeNode\n",
    "        \"\"\"\n",
    "        if not inorder or not postorder:\n",
    "            return None\n",
    "        m = postorder.pop()\n",
    "        inindex = inorder.index(m)\n",
    "        root = TreeNode(m)\n",
    "        inorder1 = inorder[:inindex]\n",
    "        inorder2 = inorder[inindex+1:]\n",
    "        root.right = self.buildTree(inorder2, postorder[inindex:])\n",
    "        root.left = self.buildTree(inorder1, postorder[:inindex])\n",
    "        return root"
   ]
  }
 ],
 "metadata": {
  "kernelspec": {
   "display_name": "Python 3",
   "language": "python",
   "name": "python3"
  },
  "language_info": {
   "codemirror_mode": {
    "name": "ipython",
    "version": 3
   },
   "file_extension": ".py",
   "mimetype": "text/x-python",
   "name": "python",
   "nbconvert_exporter": "python",
   "pygments_lexer": "ipython3",
   "version": "3.7.1"
  }
 },
 "nbformat": 4,
 "nbformat_minor": 2
}
