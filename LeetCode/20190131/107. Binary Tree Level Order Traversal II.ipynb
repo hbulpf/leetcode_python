{
 "cells": [
  {
   "cell_type": "code",
   "execution_count": null,
   "metadata": {},
   "outputs": [],
   "source": [
    "# Definition for a binary tree node.\n",
    "# class TreeNode:\n",
    "#     def __init__(self, x):\n",
    "#         self.val = x\n",
    "#         self.left = None\n",
    "#         self.right = None\n",
    "\n",
    "class Solution:\n",
    "    def levelOrderBottom(self, root):\n",
    "        \"\"\"\n",
    "        :type root: TreeNode\n",
    "        :rtype: List[List[int]]\n",
    "        \"\"\"\n",
    "        if not root:\n",
    "            return []\n",
    "        currentq = [root]\n",
    "        nextq = []\n",
    "        l = []\n",
    "        l1 = []\n",
    "        while True:\n",
    "            while currentq:\n",
    "                t = currentq.pop(0)\n",
    "                l1.append(t.val)\n",
    "                if t.left:\n",
    "                    nextq.append(t.left)\n",
    "                if t.right:\n",
    "                    nextq.append(t.right)\n",
    "            l.insert(0,l1)\n",
    "            l1 = []\n",
    "            if not nextq:\n",
    "                break\n",
    "            currentq = nextq\n",
    "            nextq = []\n",
    "        return l"
   ]
  }
 ],
 "metadata": {
  "kernelspec": {
   "display_name": "Python 3",
   "language": "python",
   "name": "python3"
  },
  "language_info": {
   "codemirror_mode": {
    "name": "ipython",
    "version": 3
   },
   "file_extension": ".py",
   "mimetype": "text/x-python",
   "name": "python",
   "nbconvert_exporter": "python",
   "pygments_lexer": "ipython3",
   "version": "3.7.1"
  }
 },
 "nbformat": 4,
 "nbformat_minor": 2
}
