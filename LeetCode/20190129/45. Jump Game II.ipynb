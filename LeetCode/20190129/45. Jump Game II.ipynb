{
 "cells": [
  {
   "cell_type": "code",
   "execution_count": null,
   "metadata": {},
   "outputs": [],
   "source": [
    "class Solution:\n",
    "    def jump(self, nums):\n",
    "        \"\"\"\n",
    "        :type nums: List[int]\n",
    "        :rtype: int\n",
    "        \"\"\"\n",
    "        if len(nums) <= 1:\n",
    "            return 0\n",
    "        k1 = 0\n",
    "        k2 = 0 + nums[0]\n",
    "        count = 1\n",
    "        n = len(nums)\n",
    "        while k2 < n-1:\n",
    "            t = max([i+nums[i] for i in range(k1,k2+1)]) \n",
    "            k1 = k2\n",
    "            k2 = t\n",
    "            count += 1\n",
    "        return count"
   ]
  }
 ],
 "metadata": {
  "kernelspec": {
   "display_name": "Python 3",
   "language": "python",
   "name": "python3"
  },
  "language_info": {
   "codemirror_mode": {
    "name": "ipython",
    "version": 3
   },
   "file_extension": ".py",
   "mimetype": "text/x-python",
   "name": "python",
   "nbconvert_exporter": "python",
   "pygments_lexer": "ipython3",
   "version": "3.7.1"
  }
 },
 "nbformat": 4,
 "nbformat_minor": 2
}
