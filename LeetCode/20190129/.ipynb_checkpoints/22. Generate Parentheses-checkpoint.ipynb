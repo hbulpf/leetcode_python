{
 "cells": [
  {
   "cell_type": "code",
   "execution_count": 8,
   "metadata": {},
   "outputs": [
    {
     "name": "stdout",
     "output_type": "stream",
     "text": [
      "['()()()', '(())()', '()(())', '(()())', '((()))']\n"
     ]
    }
   ],
   "source": [
    "class Solution(object):\n",
    "    def generateParenthesis(self, n):\n",
    "        \"\"\"\n",
    "        :type n: int\n",
    "        :rtype: List[str]\n",
    "        \"\"\"\n",
    "        if n == 1:\n",
    "            return ['()']\n",
    "        if n == 0:\n",
    "            return []\n",
    "        a = self.generateParenthesis(n-1)\n",
    "        l = []\n",
    "        for v in a:\n",
    "            for i in range(2 * n - 1):\n",
    "                t = v[:i] + '()' + v[i:]\n",
    "                if not t in l:\n",
    "                    l.append(t)\n",
    "        return l\n",
    "    \n",
    "b = Solution()\n",
    "print(b.generateParenthesis(3))"
   ]
  }
 ],
 "metadata": {
  "kernelspec": {
   "display_name": "Python 3",
   "language": "python",
   "name": "python3"
  },
  "language_info": {
   "codemirror_mode": {
    "name": "ipython",
    "version": 3
   },
   "file_extension": ".py",
   "mimetype": "text/x-python",
   "name": "python",
   "nbconvert_exporter": "python",
   "pygments_lexer": "ipython3",
   "version": "3.7.1"
  }
 },
 "nbformat": 4,
 "nbformat_minor": 2
}
