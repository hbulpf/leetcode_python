{
 "cells": [
  {
   "cell_type": "code",
   "execution_count": null,
   "metadata": {},
   "outputs": [],
   "source": [
    "# Definition for binary tree with next pointer.\n",
    "# class TreeLinkNode:\n",
    "#     def __init__(self, x):\n",
    "#         self.val = x\n",
    "#         self.left = None\n",
    "#         self.right = None\n",
    "#         self.next = None\n",
    "\n",
    "class Solution:\n",
    "    # @param root, a tree link node\n",
    "    # @return nothing\n",
    "    def connect(self, root):\n",
    "        if not root:\n",
    "            return root\n",
    "        currentq = [root]\n",
    "        nextq = []\n",
    "        while True:\n",
    "            while currentq:\n",
    "                t = currentq.pop(0)\n",
    "                if not currentq:\n",
    "                    t.next = None\n",
    "                else:\n",
    "                    t.next = currentq[0]\n",
    "                if t.left:\n",
    "                    nextq.append(t.left)\n",
    "                    nextq.append(t.right)\n",
    "            if not nextq:\n",
    "                break\n",
    "            else:\n",
    "                currentq = nextq\n",
    "                nextq = []"
   ]
  }
 ],
 "metadata": {
  "kernelspec": {
   "display_name": "Python 3",
   "language": "python",
   "name": "python3"
  },
  "language_info": {
   "codemirror_mode": {
    "name": "ipython",
    "version": 3
   },
   "file_extension": ".py",
   "mimetype": "text/x-python",
   "name": "python",
   "nbconvert_exporter": "python",
   "pygments_lexer": "ipython3",
   "version": "3.7.1"
  }
 },
 "nbformat": 4,
 "nbformat_minor": 2
}
