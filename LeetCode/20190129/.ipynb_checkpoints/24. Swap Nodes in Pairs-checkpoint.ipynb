{
 "cells": [
  {
   "cell_type": "code",
   "execution_count": null,
   "metadata": {},
   "outputs": [],
   "source": [
    "# Definition for singly-linked list.\n",
    "# class ListNode:\n",
    "#     def __init__(self, x):\n",
    "#         self.val = x\n",
    "#         self.next = None\n",
    "\n",
    "class Solution:\n",
    "    def swapPairs(self, head):\n",
    "        \"\"\"\n",
    "        :type head: ListNode\n",
    "        :rtype: ListNode\n",
    "        \"\"\"\n",
    "        if not head:\n",
    "            return head\n",
    "        h = ListNode(0)\n",
    "        h.next = head\n",
    "        pre = h\n",
    "        p1 = head\n",
    "        p2 = head.next\n",
    "        while p2:\n",
    "            p1.next = p2.next\n",
    "            pre.next = p2\n",
    "            p2.next = p1\n",
    "            pre = p1\n",
    "            p1 = p1.next\n",
    "            if not p1:\n",
    "                break\n",
    "            p2 = p1.next\n",
    "        return h.next"
   ]
  }
 ],
 "metadata": {
  "kernelspec": {
   "display_name": "Python 3",
   "language": "python",
   "name": "python3"
  },
  "language_info": {
   "codemirror_mode": {
    "name": "ipython",
    "version": 3
   },
   "file_extension": ".py",
   "mimetype": "text/x-python",
   "name": "python",
   "nbconvert_exporter": "python",
   "pygments_lexer": "ipython3",
   "version": "3.7.1"
  }
 },
 "nbformat": 4,
 "nbformat_minor": 2
}
