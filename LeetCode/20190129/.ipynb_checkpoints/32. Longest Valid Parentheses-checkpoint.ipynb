{
 "cells": [
  {
   "cell_type": "code",
   "execution_count": null,
   "metadata": {},
   "outputs": [],
   "source": [
    "class Solution(object):\n",
    "    def longestValidParentheses(self, s):\n",
    "        \"\"\"\n",
    "        :type s: str\n",
    "        :rtype: int\n",
    "        \"\"\"\n",
    "        import re\n",
    "        st = []\n",
    "        for v in s:\n",
    "            if v == '(':\n",
    "                st.append('(')\n",
    "            else:\n",
    "                if not '(' in st:\n",
    "                    st.append(')')\n",
    "                else:\n",
    "                    p = st[::-1]\n",
    "                    n = p.index('(')\n",
    "                    n = len(st) - n - 1\n",
    "                    st.pop(n)\n",
    "                    st.append('*')\n",
    "        count = 0\n",
    "        m = 0\n",
    "        for v in st:\n",
    "            if v == '*':\n",
    "                count += 1\n",
    "            else:\n",
    "                m = max(count, m)\n",
    "                count = 0\n",
    "        m = max(count, m)\n",
    "        return m*2"
   ]
  }
 ],
 "metadata": {
  "kernelspec": {
   "display_name": "Python 3",
   "language": "python",
   "name": "python3"
  },
  "language_info": {
   "codemirror_mode": {
    "name": "ipython",
    "version": 3
   },
   "file_extension": ".py",
   "mimetype": "text/x-python",
   "name": "python",
   "nbconvert_exporter": "python",
   "pygments_lexer": "ipython3",
   "version": "3.7.1"
  }
 },
 "nbformat": 4,
 "nbformat_minor": 2
}
