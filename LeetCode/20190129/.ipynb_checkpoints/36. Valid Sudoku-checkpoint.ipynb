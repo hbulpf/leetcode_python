{
 "cells": [
  {
   "cell_type": "code",
   "execution_count": null,
   "metadata": {},
   "outputs": [],
   "source": [
    "class Solution(object):\n",
    "    def isValidSudoku(self, board):\n",
    "        \"\"\"\n",
    "        :type board: List[List[str]]\n",
    "        :rtype: bool\n",
    "        \"\"\"\n",
    "        def func(li):\n",
    "            a = [0] * 10 \n",
    "            for i in range(1,10):\n",
    "                a[i] = li.count(i)\n",
    "            if max(a) <= 1:\n",
    "                return True\n",
    "            else:\n",
    "                return False\n",
    "            \n",
    "        a = [0,0,0,0,0,0,0,0,0]     \n",
    "        for i in range(9):\n",
    "            for j in range(9):\n",
    "                if board[i][j] == '.':\n",
    "                    a[j] = 0\n",
    "                else:\n",
    "                    a[j] = int(board[i][j])\n",
    "            if not func(a):\n",
    "                return False\n",
    "        for j in range(9):\n",
    "            for i in range(9):\n",
    "                if board[i][j] == '.':\n",
    "                    a[i] = 0\n",
    "                else:\n",
    "                    a[i] = int(board[i][j])\n",
    "            if not func(a):\n",
    "                return False\n",
    "        for r in [0,3,6]:\n",
    "            for c in [0,3,6]:\n",
    "                k = 0\n",
    "                for i in [r, r+1, r+2]:\n",
    "                    for j in [c, c+1, c+2]:\n",
    "                        if board[i][j] == '.':\n",
    "                            a[k] = 0\n",
    "                        else:\n",
    "                            a[k] = int(board[i][j])\n",
    "                        k += 1\n",
    "                if not func(a):\n",
    "                    return False\n",
    "        return True"
   ]
  }
 ],
 "metadata": {
  "kernelspec": {
   "display_name": "Python 3",
   "language": "python",
   "name": "python3"
  },
  "language_info": {
   "codemirror_mode": {
    "name": "ipython",
    "version": 3
   },
   "file_extension": ".py",
   "mimetype": "text/x-python",
   "name": "python",
   "nbconvert_exporter": "python",
   "pygments_lexer": "ipython3",
   "version": "3.7.1"
  }
 },
 "nbformat": 4,
 "nbformat_minor": 2
}
