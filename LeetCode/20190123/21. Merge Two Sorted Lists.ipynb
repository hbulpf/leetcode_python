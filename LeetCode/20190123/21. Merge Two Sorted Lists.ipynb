{
 "cells": [
  {
   "cell_type": "code",
   "execution_count": null,
   "metadata": {},
   "outputs": [],
   "source": [
    "# Definition for singly-linked list.\n",
    "# class ListNode:\n",
    "#     def __init__(self, x):\n",
    "#         self.val = x\n",
    "#         self.next = None\n",
    "\n",
    "class Solution:\n",
    "    def mergeTwoLists(self, l1, l2):\n",
    "        \"\"\"\n",
    "        :type l1: ListNode\n",
    "        :type l2: ListNode\n",
    "        :rtype: ListNode\n",
    "        \"\"\"\n",
    "        p = l1\n",
    "        q = l2\n",
    "        l = ListNode(0)\n",
    "        k = l\n",
    "        while p != None and q != None:\n",
    "            if p.val >= q.val:\n",
    "                k.next = q\n",
    "                k = k.next\n",
    "                q = q.next\n",
    "            else:\n",
    "                k.next = p\n",
    "                k = k.next\n",
    "                p = p.next\n",
    "        if p == None:\n",
    "            k.next = q\n",
    "        else:\n",
    "            k.next = p\n",
    "        return l.next"
   ]
  }
 ],
 "metadata": {
  "kernelspec": {
   "display_name": "Python 3",
   "language": "python",
   "name": "python3"
  },
  "language_info": {
   "codemirror_mode": {
    "name": "ipython",
    "version": 3
   },
   "file_extension": ".py",
   "mimetype": "text/x-python",
   "name": "python",
   "nbconvert_exporter": "python",
   "pygments_lexer": "ipython3",
   "version": "3.7.1"
  }
 },
 "nbformat": 4,
 "nbformat_minor": 2
}
