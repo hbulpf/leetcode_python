{
 "cells": [
  {
   "cell_type": "code",
   "execution_count": null,
   "metadata": {},
   "outputs": [],
   "source": [
    "# Definition for singly-linked list.\n",
    "# class ListNode:\n",
    "#     def __init__(self, x):\n",
    "#         self.val = x\n",
    "#         self.next = None\n",
    "\n",
    "class Solution:\n",
    "    def insertionSortList(self, head):\n",
    "        \"\"\"\n",
    "        :type head: ListNode\n",
    "        :rtype: ListNode\n",
    "        \"\"\"\n",
    "        if head == None:\n",
    "            return head\n",
    "        h = ListNode(0)\n",
    "        h.next = head\n",
    "        while head.next != None:\n",
    "            if head.val > head.next.val:\n",
    "                p = head.next\n",
    "                head.next = head.next.next\n",
    "                t = h.next\n",
    "                t1 = h\n",
    "                while p.val > t.val:\n",
    "                    t1 = t\n",
    "                    t = t.next\n",
    "                t1.next = p\n",
    "                p.next = t\n",
    "            if head.next == None:\n",
    "                break\n",
    "            if head.val <= head.next.val:\n",
    "                head = head.next\n",
    "        return h.next"
   ]
  }
 ],
 "metadata": {
  "kernelspec": {
   "display_name": "Python 3",
   "language": "python",
   "name": "python3"
  },
  "language_info": {
   "codemirror_mode": {
    "name": "ipython",
    "version": 3
   },
   "file_extension": ".py",
   "mimetype": "text/x-python",
   "name": "python",
   "nbconvert_exporter": "python",
   "pygments_lexer": "ipython3",
   "version": "3.7.1"
  }
 },
 "nbformat": 4,
 "nbformat_minor": 2
}
