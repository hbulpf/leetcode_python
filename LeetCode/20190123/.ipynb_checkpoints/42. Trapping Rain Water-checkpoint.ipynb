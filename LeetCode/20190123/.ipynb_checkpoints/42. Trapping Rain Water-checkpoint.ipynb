{
 "cells": [
  {
   "cell_type": "code",
   "execution_count": null,
   "metadata": {},
   "outputs": [],
   "source": [
    "class Solution:\n",
    "    def trap(self, height):\n",
    "        \"\"\"\n",
    "        :type height: List[int]\n",
    "        :rtype: int\n",
    "        \"\"\"\n",
    "        if len(height) in [0,1]:\n",
    "            return 0\n",
    "        stack = []\n",
    "        i = 0\n",
    "        while height[i] == 0:\n",
    "            i +=1\n",
    "        stack.append((i, height[i]))\n",
    "        i +=1\n",
    "        s = 0\n",
    "        while True:\n",
    "            if height[i] <= stack[-1][1]:\n",
    "                stack.append((i,height[i]))\n",
    "                i +=1\n",
    "            else:\n",
    "                stack = map(lambda x: (x[0], x[1]-stack[-1][1]), stack)\n",
    "                height = map(lambda x: x-stack[-1][1], height)\n",
    "                s +=  \n",
    "                stack.pop(-1)\n",
    "            \n",
    "        "
   ]
  }
 ],
 "metadata": {
  "kernelspec": {
   "display_name": "Python 3",
   "language": "python",
   "name": "python3"
  },
  "language_info": {
   "codemirror_mode": {
    "name": "ipython",
    "version": 3
   },
   "file_extension": ".py",
   "mimetype": "text/x-python",
   "name": "python",
   "nbconvert_exporter": "python",
   "pygments_lexer": "ipython3",
   "version": "3.7.1"
  }
 },
 "nbformat": 4,
 "nbformat_minor": 2
}
