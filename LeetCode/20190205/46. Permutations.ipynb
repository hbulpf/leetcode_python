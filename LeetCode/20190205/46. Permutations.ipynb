{
 "cells": [
  {
   "cell_type": "code",
   "execution_count": null,
   "metadata": {},
   "outputs": [],
   "source": [
    "class Solution:\n",
    "    def permute(self, nums: 'List[int]') -> 'List[List[int]]':\n",
    "        import copy\n",
    "        if not nums:\n",
    "            return []\n",
    "        l = [[nums[0]]]\n",
    "        for v in nums[1:]:\n",
    "            l1 = copy.deepcopy(l)\n",
    "            l = []\n",
    "            for t in l1:\n",
    "                for i in range(len(t)):\n",
    "                    a = copy.deepcopy(t)\n",
    "                    a.insert(i,v)\n",
    "                    l.append(a)\n",
    "                t.append(v)\n",
    "                l.append(t)\n",
    "        return l"
   ]
  }
 ],
 "metadata": {
  "kernelspec": {
   "display_name": "Python 3",
   "language": "python",
   "name": "python3"
  },
  "language_info": {
   "codemirror_mode": {
    "name": "ipython",
    "version": 3
   },
   "file_extension": ".py",
   "mimetype": "text/x-python",
   "name": "python",
   "nbconvert_exporter": "python",
   "pygments_lexer": "ipython3",
   "version": "3.7.1"
  }
 },
 "nbformat": 4,
 "nbformat_minor": 2
}
