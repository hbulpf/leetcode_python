{
 "cells": [
  {
   "cell_type": "code",
   "execution_count": null,
   "metadata": {},
   "outputs": [],
   "source": [
    "class Solution:\n",
    "    def threeSumClosest(self, nums: 'List[int]', target: 'int') -> 'int':\n",
    "        n = len(nums)\n",
    "        if n == 3:\n",
    "            return sum(nums)\n",
    "        m = float('inf')\n",
    "        for i in range(n-2):\n",
    "            for j in range(i+1,n-1):\n",
    "                for k in range(j+1, n):\n",
    "                    if abs(target-nums[i]-nums[j]-nums[k]) < abs(m):\n",
    "                        m = target-nums[i]-nums[j]-nums[k]\n",
    "        return target - m\n",
    "        "
   ]
  }
 ],
 "metadata": {
  "kernelspec": {
   "display_name": "Python 3",
   "language": "python",
   "name": "python3"
  },
  "language_info": {
   "codemirror_mode": {
    "name": "ipython",
    "version": 3
   },
   "file_extension": ".py",
   "mimetype": "text/x-python",
   "name": "python",
   "nbconvert_exporter": "python",
   "pygments_lexer": "ipython3",
   "version": "3.7.1"
  }
 },
 "nbformat": 4,
 "nbformat_minor": 2
}
