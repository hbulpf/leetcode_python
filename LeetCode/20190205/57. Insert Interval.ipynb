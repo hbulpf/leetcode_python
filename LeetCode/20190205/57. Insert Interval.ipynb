{
 "cells": [
  {
   "cell_type": "code",
   "execution_count": null,
   "metadata": {},
   "outputs": [],
   "source": [
    "# Definition for an interval.\n",
    "# class Interval:\n",
    "#     def __init__(self, s=0, e=0):\n",
    "#         self.start = s\n",
    "#         self.end = e\n",
    "\n",
    "class Solution:\n",
    "    def insert(self, intervals: 'List[Interval]', newInterval: 'Interval') -> 'List[Interval]':\n",
    "        def t(x):\n",
    "            return x.start\n",
    "        intervals.sort(key=t)\n",
    "        \n",
    "        flag = 0\n",
    "        for i in range(len(intervals)):\n",
    "            if not newInterval.start > intervals[i].start or not newInterval.start > intervals[i].end:\n",
    "                flag = 1\n",
    "                break\n",
    "        if not flag:\n",
    "            intervals.append(newIntervals)\n",
    "            return intervals\n",
    "        if newIntervals.start < intervals[i].start:\n",
    "            if newIntervals.end < intervals[i].start:\n",
    "                intervals.insert(i,newInterval)\n",
    "                return intervals\n",
    "            else:\n",
    "                for j in range(i, len(intervals)):\n",
    "                    if not newInterval.end > intervals[i].start or not newInterval.end > intervals[i].end:\n",
    "                    \n",
    "        "
   ]
  }
 ],
 "metadata": {
  "kernelspec": {
   "display_name": "Python 3",
   "language": "python",
   "name": "python3"
  },
  "language_info": {
   "codemirror_mode": {
    "name": "ipython",
    "version": 3
   },
   "file_extension": ".py",
   "mimetype": "text/x-python",
   "name": "python",
   "nbconvert_exporter": "python",
   "pygments_lexer": "ipython3",
   "version": "3.7.1"
  }
 },
 "nbformat": 4,
 "nbformat_minor": 2
}
