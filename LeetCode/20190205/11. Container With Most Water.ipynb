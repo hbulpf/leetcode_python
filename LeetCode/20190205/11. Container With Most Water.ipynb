{
 "cells": [
  {
   "cell_type": "code",
   "execution_count": null,
   "metadata": {},
   "outputs": [],
   "source": [
    "class Solution:\n",
    "    def maxArea(self, height: 'List[int]') -> 'int':\n",
    "        if len(height) == 2:\n",
    "            return min(height)\n",
    "        cur = min(height[:2])\n",
    "        for i in range(2, len(height)):\n",
    "            for j in range(i):\n",
    "                if (min(height[i],height[j]))*(i-j) > cur:\n",
    "                    cur = (min(height[i],height[j]))*(i-j)\n",
    "        return cur"
   ]
  },
  {
   "cell_type": "code",
   "execution_count": null,
   "metadata": {},
   "outputs": [],
   "source": [
    "class Solution:\n",
    "    def maxArea(self, height):\n",
    "        \"\"\"\n",
    "        :type height: List[int]\n",
    "        :rtype: int\n",
    "        \"\"\"\n",
    "        i,j = 0,len(height)-1\n",
    "        area = 0\n",
    "        while i<=j:\n",
    "            if(height[i]<=height[j]):\n",
    "                a = height[i]*(j-i)\n",
    "                i+=1\n",
    "            else:\n",
    "                a = height[j]*(j-i)\n",
    "                j-=1\n",
    "            if(a>area):\n",
    "                area = a\n",
    "        return(area)"
   ]
  }
 ],
 "metadata": {
  "kernelspec": {
   "display_name": "Python 3",
   "language": "python",
   "name": "python3"
  },
  "language_info": {
   "codemirror_mode": {
    "name": "ipython",
    "version": 3
   },
   "file_extension": ".py",
   "mimetype": "text/x-python",
   "name": "python",
   "nbconvert_exporter": "python",
   "pygments_lexer": "ipython3",
   "version": "3.7.1"
  }
 },
 "nbformat": 4,
 "nbformat_minor": 2
}
