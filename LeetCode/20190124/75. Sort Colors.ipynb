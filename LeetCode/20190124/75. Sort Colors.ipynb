{
 "cells": [
  {
   "cell_type": "code",
   "execution_count": null,
   "metadata": {},
   "outputs": [],
   "source": [
    "class Solution:\n",
    "    def sortColors(self, nums):\n",
    "        \"\"\"\n",
    "        :type nums: List[int]\n",
    "        :rtype: void Do not return anything, modify nums in-place instead.\n",
    "        \"\"\"\n",
    "        a = [0, 0, 0]\n",
    "        for v in nums:\n",
    "            if v == 0:\n",
    "                a[0] += 1\n",
    "            if v == 1:\n",
    "                a[1] += 1\n",
    "            if v == 2:\n",
    "                a[2] += 1\n",
    "        b = []\n",
    "        for i in range(1,a[0]+1):\n",
    "            b.append(0)\n",
    "        for i in range(1,a[1]+1):\n",
    "            b.append(1)\n",
    "        for i in range(1,a[2]+1):\n",
    "            b.append(2)\n",
    "        for i in range(len(nums)):\n",
    "            nums[i] = b[i]"
   ]
  }
 ],
 "metadata": {
  "kernelspec": {
   "display_name": "Python 3",
   "language": "python",
   "name": "python3"
  },
  "language_info": {
   "codemirror_mode": {
    "name": "ipython",
    "version": 3
   },
   "file_extension": ".py",
   "mimetype": "text/x-python",
   "name": "python",
   "nbconvert_exporter": "python",
   "pygments_lexer": "ipython3",
   "version": "3.7.1"
  }
 },
 "nbformat": 4,
 "nbformat_minor": 2
}
