{
 "cells": [
  {
   "cell_type": "code",
   "execution_count": null,
   "metadata": {},
   "outputs": [],
   "source": [
    "class Solution:\n",
    "    def evalRPN(self, tokens):\n",
    "        \"\"\"\n",
    "        :type tokens: List[str]\n",
    "        :rtype: int\n",
    "        \"\"\"\n",
    "        operand = []\n",
    "        for t in tokens:\n",
    "            if t == '+':\n",
    "                a = operand.pop(-1)\n",
    "                b = operand.pop(-1)\n",
    "                operand.append(a+b)\n",
    "            elif t == '-':\n",
    "                a = operand.pop(-1)\n",
    "                b = operand.pop(-1)\n",
    "                operand.append(b-a)\n",
    "            elif t == '*':\n",
    "                a = operand.pop(-1)\n",
    "                b = operand.pop(-1)\n",
    "                operand.append(a*b)\n",
    "            elif t == '/':\n",
    "                a = operand.pop(-1)\n",
    "                b = operand.pop(-1)\n",
    "                if a*b < 0:\n",
    "                    operand.append(-((-b)//a))\n",
    "                else:\n",
    "                    operand.append(b//a)\n",
    "            else:\n",
    "                operand.append(int(t))\n",
    "        return operand[0]"
   ]
  }
 ],
 "metadata": {
  "kernelspec": {
   "display_name": "Python 3",
   "language": "python",
   "name": "python3"
  },
  "language_info": {
   "codemirror_mode": {
    "name": "ipython",
    "version": 3
   },
   "file_extension": ".py",
   "mimetype": "text/x-python",
   "name": "python",
   "nbconvert_exporter": "python",
   "pygments_lexer": "ipython3",
   "version": "3.7.1"
  }
 },
 "nbformat": 4,
 "nbformat_minor": 2
}
