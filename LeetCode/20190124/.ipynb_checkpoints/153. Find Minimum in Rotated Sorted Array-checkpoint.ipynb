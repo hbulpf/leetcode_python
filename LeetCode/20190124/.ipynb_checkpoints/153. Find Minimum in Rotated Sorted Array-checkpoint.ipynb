{
 "cells": [
  {
   "cell_type": "code",
   "execution_count": null,
   "metadata": {},
   "outputs": [],
   "source": [
    "class Solution:\n",
    "    def findMin(self, nums):\n",
    "        \"\"\"\n",
    "        :type nums: List[int]\n",
    "        :rtype: int\n",
    "        \"\"\"\n",
    "        l = 0\n",
    "        r = len(nums) - 1\n",
    "        if nums[l] < nums[r]:\n",
    "            return nums[0]\n",
    "        while l < r:\n",
    "            t = (l + r) // 2\n",
    "            if nums[t] > nums[t+1]:\n",
    "                return nums[t+1]\n",
    "            elif nums[t] <= nums[l]:\n",
    "                r = t\n",
    "            else:\n",
    "                l = t\n",
    "        return nums[l]"
   ]
  }
 ],
 "metadata": {
  "kernelspec": {
   "display_name": "Python 3",
   "language": "python",
   "name": "python3"
  },
  "language_info": {
   "codemirror_mode": {
    "name": "ipython",
    "version": 3
   },
   "file_extension": ".py",
   "mimetype": "text/x-python",
   "name": "python",
   "nbconvert_exporter": "python",
   "pygments_lexer": "ipython3",
   "version": "3.7.1"
  }
 },
 "nbformat": 4,
 "nbformat_minor": 2
}
