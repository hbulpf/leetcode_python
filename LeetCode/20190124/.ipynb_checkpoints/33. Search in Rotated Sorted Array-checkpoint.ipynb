{
 "cells": [
  {
   "cell_type": "code",
   "execution_count": null,
   "metadata": {},
   "outputs": [],
   "source": [
    "class Solution:\n",
    "    \n",
    "    def search(self, nums, target):\n",
    "        \"\"\"\n",
    "        :type nums: List[int]\n",
    "        :type target: int\n",
    "        :rtype: int\n",
    "        \"\"\"\n",
    "        if len(nums) == 0:\n",
    "            return -1\n",
    "        \n",
    "        def findr(nums):\n",
    "            l = 0\n",
    "            r = len(nums) - 1\n",
    "            if nums[l] <= nums[r]:\n",
    "                return 0\n",
    "            while l < r:\n",
    "                t = (l + r) // 2\n",
    "                if nums[t] > nums[t + 1]:\n",
    "                    return t + 1\n",
    "                elif nums[t] > nums[l]:\n",
    "                    l = t\n",
    "                else:\n",
    "                    r = t\n",
    "        \n",
    "        m = findr(nums)\n",
    "        if m == 0:\n",
    "            l = 0\n",
    "            r = len(nums) - 1\n",
    "        else:\n",
    "            if target == nums[0]:\n",
    "                return 0\n",
    "            elif target > nums[0]:\n",
    "                l = 0\n",
    "                r = m\n",
    "            else:\n",
    "                l = m\n",
    "                r = len(nums) - 1 \n",
    "        while l <= r:\n",
    "            t  = (l + r) // 2\n",
    "            if nums[t] == target:\n",
    "                return t\n",
    "            elif target > nums[t]:\n",
    "                l = t + 1\n",
    "            else:\n",
    "                r = t - 1\n",
    "        return -1"
   ]
  }
 ],
 "metadata": {
  "kernelspec": {
   "display_name": "Python 3",
   "language": "python",
   "name": "python3"
  },
  "language_info": {
   "codemirror_mode": {
    "name": "ipython",
    "version": 3
   },
   "file_extension": ".py",
   "mimetype": "text/x-python",
   "name": "python",
   "nbconvert_exporter": "python",
   "pygments_lexer": "ipython3",
   "version": "3.7.1"
  }
 },
 "nbformat": 4,
 "nbformat_minor": 2
}
