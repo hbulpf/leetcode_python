{
 "cells": [
  {
   "cell_type": "code",
   "execution_count": null,
   "metadata": {},
   "outputs": [],
   "source": [
    "# Definition for singly-linked list.\n",
    "# class ListNode:\n",
    "#     def __init__(self, x):\n",
    "#         self.val = x\n",
    "#         self.next = None\n",
    "\n",
    "class Solution:\n",
    "    def removeNthFromEnd(self, head, n):\n",
    "        \"\"\"\n",
    "        :type head: ListNode\n",
    "        :type n: int\n",
    "        :rtype: ListNode\n",
    "        \"\"\"\n",
    "        k = 0\n",
    "        p = head\n",
    "        while p != None:\n",
    "            k += 1\n",
    "            p = p.next\n",
    "        p = head\n",
    "        if k == 1:\n",
    "            return None\n",
    "        if n == 1:\n",
    "            for i in range(1, k-1):\n",
    "                p = p.next\n",
    "            p.next = None\n",
    "            return head\n",
    "        if k == n:\n",
    "            return head.next\n",
    "        n = k - n\n",
    "        p = head\n",
    "        for i in range(1, n):\n",
    "            p = p.next\n",
    "        p.next = p.next.next\n",
    "        return head"
   ]
  }
 ],
 "metadata": {
  "kernelspec": {
   "display_name": "Python 3",
   "language": "python",
   "name": "python3"
  },
  "language_info": {
   "codemirror_mode": {
    "name": "ipython",
    "version": 3
   },
   "file_extension": ".py",
   "mimetype": "text/x-python",
   "name": "python",
   "nbconvert_exporter": "python",
   "pygments_lexer": "ipython3",
   "version": "3.7.1"
  }
 },
 "nbformat": 4,
 "nbformat_minor": 2
}
