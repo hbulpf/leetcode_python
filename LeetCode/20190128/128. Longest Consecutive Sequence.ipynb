{
 "cells": [
  {
   "cell_type": "code",
   "execution_count": null,
   "metadata": {},
   "outputs": [],
   "source": [
    "class Solution(object):\n",
    "    def longestConsecutive(self, nums):\n",
    "        \"\"\"\n",
    "        :type nums: List[int]\n",
    "        :rtype: int\n",
    "        \"\"\"\n",
    "        if not nums:\n",
    "            return 0\n",
    "        nums = set(nums)\n",
    "        nums = list(nums)\n",
    "        nums.sort()\n",
    "        for i in range(len(nums)):\n",
    "            nums[i] = nums[i] - i\n",
    "        a = list(map(lambda x: nums.count(x), nums))\n",
    "        return max(a)"
   ]
  },
  {
   "cell_type": "code",
   "execution_count": null,
   "metadata": {},
   "outputs": [],
   "source": [
    "class Solution:\n",
    "    def longestConsecutive(self, nums):\n",
    "        \"\"\"\n",
    "        :type nums: List[int]\n",
    "        :rtype: int\n",
    "        \"\"\"\n",
    "        num_set = set(nums)\n",
    "        max_len = 0\n",
    "        \n",
    "        for num in num_set:\n",
    "            if num - 1 not in num_set:\n",
    "                offset = 1\n",
    "                while num + offset in num_set:\n",
    "                    offset += 1\n",
    "                max_len = max(max_len, offset)\n",
    "            else:\n",
    "                continue\n",
    "        \n",
    "        return max_len"
   ]
  }
 ],
 "metadata": {
  "kernelspec": {
   "display_name": "Python 3",
   "language": "python",
   "name": "python3"
  },
  "language_info": {
   "codemirror_mode": {
    "name": "ipython",
    "version": 3
   },
   "file_extension": ".py",
   "mimetype": "text/x-python",
   "name": "python",
   "nbconvert_exporter": "python",
   "pygments_lexer": "ipython3",
   "version": "3.7.1"
  }
 },
 "nbformat": 4,
 "nbformat_minor": 2
}
