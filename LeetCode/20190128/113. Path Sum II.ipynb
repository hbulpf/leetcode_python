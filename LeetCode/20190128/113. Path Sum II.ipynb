{
 "cells": [
  {
   "cell_type": "code",
   "execution_count": null,
   "metadata": {},
   "outputs": [],
   "source": [
    "# Definition for a binary tree node.\n",
    "# class TreeNode:\n",
    "#     def __init__(self, x):\n",
    "#         self.val = x\n",
    "#         self.left = None\n",
    "#         self.right = None\n",
    "\n",
    "class Solution:\n",
    "    def pathSum(self, root, sum):\n",
    "        \"\"\"\n",
    "        :type root: TreeNode\n",
    "        :type sum: int\n",
    "        :rtype: List[List[int]]\n",
    "        \"\"\"\n",
    "        if not root:\n",
    "            return []\n",
    "        \n",
    "        def func(root, sum):\n",
    "            if not root.left and not root.right:\n",
    "                if sum == root.val:\n",
    "                    return [True, [[root.val]]]\n",
    "                else:\n",
    "                    return [False, []]\n",
    "            elif not root.left:\n",
    "                a = func(root.right, sum-root.val)\n",
    "                if a[0]:\n",
    "                    for v in a[1]:\n",
    "                        v.insert(0, root.val)\n",
    "                    return [True, a[1]]\n",
    "                else:\n",
    "                    return [False, []]\n",
    "            elif not root.right:\n",
    "                a = func(root.left, sum-root.val)\n",
    "                if a[0]:\n",
    "                    for v in a[1]:\n",
    "                        v.insert(0, root.val)\n",
    "                    return [True, a[1]]\n",
    "                else:\n",
    "                    return [False, []]\n",
    "            else:\n",
    "                l = func(root.left, sum-root.val) \n",
    "                r = func(root.right, sum-root.val)\n",
    "                if not r[0] and not l[0]:\n",
    "                    return [False, []]\n",
    "                a = []\n",
    "                if l[0]:\n",
    "                    a += l[1]\n",
    "                if r[0]:\n",
    "                    a += r[1]\n",
    "                for v in a:\n",
    "                    v.insert(0, root.val)\n",
    "                return [True, a]                \n",
    "        \n",
    "        a = func(root, sum)\n",
    "        return a[1]"
   ]
  }
 ],
 "metadata": {
  "kernelspec": {
   "display_name": "Python 3",
   "language": "python",
   "name": "python3"
  },
  "language_info": {
   "codemirror_mode": {
    "name": "ipython",
    "version": 3
   },
   "file_extension": ".py",
   "mimetype": "text/x-python",
   "name": "python",
   "nbconvert_exporter": "python",
   "pygments_lexer": "ipython3",
   "version": "3.7.1"
  }
 },
 "nbformat": 4,
 "nbformat_minor": 2
}
