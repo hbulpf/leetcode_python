{
 "cells": [
  {
   "cell_type": "code",
   "execution_count": null,
   "metadata": {},
   "outputs": [],
   "source": [
    "# Definition for singly-linked list.\n",
    "# class ListNode(object):\n",
    "#     def __init__(self, x):\n",
    "#         self.val = x\n",
    "#         self.next = None\n",
    "\n",
    "class Solution(object):\n",
    "    def deleteDuplicates(self, head):\n",
    "        \"\"\"\n",
    "        :type head: ListNode\n",
    "        :rtype: ListNode\n",
    "        \"\"\"\n",
    "        if not head:\n",
    "            return head\n",
    "        h = pre1 = ListNode(0)\n",
    "        pre1.next = head\n",
    "        pre = head\n",
    "        p = head.next\n",
    "        while p:\n",
    "            if p.val == pre.val:\n",
    "                if p.next:\n",
    "                    p = p.next\n",
    "                else:\n",
    "                    pre1.next = None\n",
    "                    break\n",
    "            elif pre.next != p:\n",
    "                pre1.next = p\n",
    "                pre = p\n",
    "                p = p.next\n",
    "            else:\n",
    "                pre1 = pre1.next\n",
    "                pre = pre.next\n",
    "                p = p.next\n",
    "        return h.next"
   ]
  }
 ],
 "metadata": {
  "kernelspec": {
   "display_name": "Python 3",
   "language": "python",
   "name": "python3"
  },
  "language_info": {
   "codemirror_mode": {
    "name": "ipython",
    "version": 3
   },
   "file_extension": ".py",
   "mimetype": "text/x-python",
   "name": "python",
   "nbconvert_exporter": "python",
   "pygments_lexer": "ipython3",
   "version": "3.7.1"
  }
 },
 "nbformat": 4,
 "nbformat_minor": 2
}
