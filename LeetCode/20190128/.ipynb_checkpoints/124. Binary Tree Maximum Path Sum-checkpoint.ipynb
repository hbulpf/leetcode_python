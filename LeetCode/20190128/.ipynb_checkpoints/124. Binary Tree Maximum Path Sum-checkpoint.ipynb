{
 "cells": [
  {
   "cell_type": "code",
   "execution_count": null,
   "metadata": {},
   "outputs": [],
   "source": [
    "# Definition for a binary tree node.\n",
    "# class TreeNode(object):\n",
    "#     def __init__(self, x):\n",
    "#         self.val = x\n",
    "#         self.left = None\n",
    "#         self.right = None\n",
    "\n",
    "class Solution(object):\n",
    "    def maxPathSum(self, root):\n",
    "        \"\"\"\n",
    "        :type root: TreeNode\n",
    "        :rtype: int\n",
    "        \"\"\"\n",
    "        maxm = -float(\"inf\")\n",
    "        \n",
    "        def func(r):\n",
    "            nonlocal maxm\n",
    "            if not r:\n",
    "                return 0\n",
    "            left = func(r.left)\n",
    "            right = func(r.right)\n",
    "            maxm = max(maxm, r.val, r.val+left, r.val+right, r.val+left+right)\n",
    "            return max(r.val, r.val+left, r.val+right)\n",
    "        \n",
    "        func(root)\n",
    "        return maxm"
   ]
  }
 ],
 "metadata": {
  "kernelspec": {
   "display_name": "Python 3",
   "language": "python",
   "name": "python3"
  },
  "language_info": {
   "codemirror_mode": {
    "name": "ipython",
    "version": 3
   },
   "file_extension": ".py",
   "mimetype": "text/x-python",
   "name": "python",
   "nbconvert_exporter": "python",
   "pygments_lexer": "ipython3",
   "version": "3.7.1"
  }
 },
 "nbformat": 4,
 "nbformat_minor": 2
}
