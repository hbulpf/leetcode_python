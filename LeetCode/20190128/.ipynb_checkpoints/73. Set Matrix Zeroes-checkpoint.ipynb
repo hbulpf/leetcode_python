{
 "cells": [
  {
   "cell_type": "code",
   "execution_count": null,
   "metadata": {},
   "outputs": [],
   "source": [
    "class Solution:\n",
    "    def setZeroes(self, matrix):\n",
    "        \"\"\"\n",
    "        :type matrix: List[List[int]]\n",
    "        :rtype: void Do not return anything, modify matrix in-place instead.\n",
    "        \"\"\"\n",
    "        if not matrix:\n",
    "            return matrix\n",
    "        r = len(matrix)\n",
    "        c = len(matrix[0])\n",
    "        a = []\n",
    "        for i in range(r):\n",
    "            flag = 0\n",
    "            for j in range(c):\n",
    "                if matrix[i][j] == 0:\n",
    "                    flag = 1\n",
    "                    a.append(j)\n",
    "            if flag == 1:\n",
    "                matrix[i] = [0]*c\n",
    "        for j in a:\n",
    "            for i in range(r):\n",
    "                matrix[i][j] = 0\n",
    "        return \n",
    "            "
   ]
  }
 ],
 "metadata": {
  "kernelspec": {
   "display_name": "Python 3",
   "language": "python",
   "name": "python3"
  },
  "language_info": {
   "codemirror_mode": {
    "name": "ipython",
    "version": 3
   },
   "file_extension": ".py",
   "mimetype": "text/x-python",
   "name": "python",
   "nbconvert_exporter": "python",
   "pygments_lexer": "ipython3",
   "version": "3.7.1"
  }
 },
 "nbformat": 4,
 "nbformat_minor": 2
}
