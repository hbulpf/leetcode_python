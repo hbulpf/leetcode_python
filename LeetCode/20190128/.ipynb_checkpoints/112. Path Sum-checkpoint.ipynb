{
 "cells": [
  {
   "cell_type": "code",
   "execution_count": null,
   "metadata": {},
   "outputs": [],
   "source": [
    "# Definition for a binary tree node.\n",
    "# class TreeNode:\n",
    "#     def __init__(self, x):\n",
    "#         self.val = x\n",
    "#         self.left = None\n",
    "#         self.right = None\n",
    "\n",
    "class Solution:\n",
    "    def hasPathSum(self, root, sum):\n",
    "        \"\"\"\n",
    "        :type root: TreeNode\n",
    "        :type sum: int\n",
    "        :rtype: bool\n",
    "        \"\"\"\n",
    "        if not root:\n",
    "            return False\n",
    "        \n",
    "        def func(root, sum):\n",
    "            if not root.left and not root.right:\n",
    "                if sum == root.val:\n",
    "                    return True\n",
    "                else:\n",
    "                    return False\n",
    "            elif not root.left:\n",
    "                return func(root.right, sum-root.val)\n",
    "            elif not root.right:\n",
    "                return func(root.left, sum-root.val)\n",
    "            else:\n",
    "                return func(root.left, sum-root.val) or func(root.right, sum-root.val)\n",
    "        \n",
    "        return func(root, sum)"
   ]
  }
 ],
 "metadata": {
  "kernelspec": {
   "display_name": "Python 3",
   "language": "python",
   "name": "python3"
  },
  "language_info": {
   "codemirror_mode": {
    "name": "ipython",
    "version": 3
   },
   "file_extension": ".py",
   "mimetype": "text/x-python",
   "name": "python",
   "nbconvert_exporter": "python",
   "pygments_lexer": "ipython3",
   "version": "3.7.1"
  }
 },
 "nbformat": 4,
 "nbformat_minor": 2
}
