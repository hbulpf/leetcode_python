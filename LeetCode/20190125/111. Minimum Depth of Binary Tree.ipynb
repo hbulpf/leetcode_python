{
 "cells": [
  {
   "cell_type": "code",
   "execution_count": null,
   "metadata": {},
   "outputs": [],
   "source": [
    "# Definition for a binary tree node.\n",
    "# class TreeNode(object):\n",
    "#     def __init__(self, x):\n",
    "#         self.val = x\n",
    "#         self.left = None\n",
    "#         self.right = None\n",
    "\n",
    "class Solution(object):\n",
    "    def minDepth(self, root):\n",
    "        \"\"\"\n",
    "        :type root: TreeNode\n",
    "        :rtype: int\n",
    "        \"\"\"\n",
    "        if root == None:\n",
    "            return 0\n",
    "        currentq = [root]\n",
    "        nextq = []\n",
    "        t = root\n",
    "        dep = 1\n",
    "        while True:\n",
    "            while currentq:\n",
    "                t = currentq.pop(0)\n",
    "                if t.left == None and t.right == None:\n",
    "                    return dep\n",
    "                else:\n",
    "                    if t.left:\n",
    "                        nextq.append(t.left)\n",
    "                    if t.right:\n",
    "                        nextq.append(t.right)\n",
    "            currentq = nextq\n",
    "            nextq = []\n",
    "            dep += 1"
   ]
  }
 ],
 "metadata": {
  "kernelspec": {
   "display_name": "Python 3",
   "language": "python",
   "name": "python3"
  },
  "language_info": {
   "codemirror_mode": {
    "name": "ipython",
    "version": 3
   },
   "file_extension": ".py",
   "mimetype": "text/x-python",
   "name": "python",
   "nbconvert_exporter": "python",
   "pygments_lexer": "ipython3",
   "version": "3.7.1"
  }
 },
 "nbformat": 4,
 "nbformat_minor": 2
}
