{
 "cells": [
  {
   "cell_type": "code",
   "execution_count": null,
   "metadata": {},
   "outputs": [],
   "source": [
    "class Solution(object):\n",
    "    def isValid(self, s):\n",
    "        \"\"\"\n",
    "        :type s: str\n",
    "        :rtype: bool\n",
    "        \"\"\"\n",
    "        sq = []\n",
    "        if len(s) == 0:\n",
    "            return True\n",
    "        for v in s:\n",
    "            if not sq:\n",
    "                sq.append(v)\n",
    "            else:\n",
    "                if v == ')':\n",
    "                    if sq[-1] == '(':\n",
    "                        sq.pop(-1)\n",
    "                    else:\n",
    "                        return False\n",
    "                elif v == ']':\n",
    "                    if sq[-1] == '[':\n",
    "                        sq.pop(-1)\n",
    "                    else:\n",
    "                        return False                \n",
    "                elif v == '}':\n",
    "                    if sq[-1] == '{':\n",
    "                        sq.pop(-1)\n",
    "                    else:\n",
    "                        return False \n",
    "                else:\n",
    "                    sq.append(v)\n",
    "        if not sq:\n",
    "            return True\n",
    "        else:\n",
    "            return False"
   ]
  }
 ],
 "metadata": {
  "kernelspec": {
   "display_name": "Python 3",
   "language": "python",
   "name": "python3"
  },
  "language_info": {
   "codemirror_mode": {
    "name": "ipython",
    "version": 3
   },
   "file_extension": ".py",
   "mimetype": "text/x-python",
   "name": "python",
   "nbconvert_exporter": "python",
   "pygments_lexer": "ipython3",
   "version": "3.7.1"
  }
 },
 "nbformat": 4,
 "nbformat_minor": 2
}
