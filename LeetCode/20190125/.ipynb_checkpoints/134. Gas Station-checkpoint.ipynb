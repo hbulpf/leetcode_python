{
 "cells": [
  {
   "cell_type": "code",
   "execution_count": null,
   "metadata": {},
   "outputs": [],
   "source": [
    "class Solution(object):\n",
    "    def canCompleteCircuit(self, gas, cost):\n",
    "        \"\"\"\n",
    "        :type gas: List[int]\n",
    "        :type cost: List[int]\n",
    "        :rtype: int\n",
    "        \"\"\"\n",
    "        n = len(gas)\n",
    "        for k in range(n):\n",
    "            g = gas[k:] + gas[:k]\n",
    "            c = cost[k:] + cost[:k]\n",
    "            flag = 1\n",
    "            tank = 0\n",
    "            for i in range(n):\n",
    "                tank += g[i]\n",
    "                if tank < c[i]:\n",
    "                    flag = 0\n",
    "                    break\n",
    "                tank -= c[i]\n",
    "            if flag == 1:\n",
    "                return k\n",
    "        return -1"
   ]
  }
 ],
 "metadata": {
  "kernelspec": {
   "display_name": "Python 3",
   "language": "python",
   "name": "python3"
  },
  "language_info": {
   "codemirror_mode": {
    "name": "ipython",
    "version": 3
   },
   "file_extension": ".py",
   "mimetype": "text/x-python",
   "name": "python",
   "nbconvert_exporter": "python",
   "pygments_lexer": "ipython3",
   "version": "3.7.1"
  }
 },
 "nbformat": 4,
 "nbformat_minor": 2
}
