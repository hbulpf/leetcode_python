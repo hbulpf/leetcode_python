{
 "cells": [
  {
   "cell_type": "code",
   "execution_count": null,
   "metadata": {},
   "outputs": [],
   "source": [
    "# Definition for a binary tree node.\n",
    "# class TreeNode(object):\n",
    "#     def __init__(self, x):\n",
    "#         self.val = x\n",
    "#         self.left = None\n",
    "#         self.right = None\n",
    "\n",
    "class Solution(object):\n",
    "    def sumNumbers(self, root):\n",
    "        \"\"\"\n",
    "        :type root: TreeNode\n",
    "        :rtype: int\n",
    "        \"\"\"\n",
    "        if not root:\n",
    "            return 0\n",
    "        currentq = [[root, root.val]]\n",
    "        nextq = []\n",
    "        sum1 = 0\n",
    "        while True:\n",
    "            while currentq:\n",
    "                t = currentq.pop(0)\n",
    "                if not t[0].left and not t[0].right:\n",
    "                    sum1 += t[1]\n",
    "                else:\n",
    "                    if t[0].left:\n",
    "                        nextq.append([t[0].left, 10 * t[1] + t[0].left.val])\n",
    "                    if t[0].right:\n",
    "                        nextq.append([t[0].right, 10 * t[1] + t[0].right.val])\n",
    "            if not nextq:\n",
    "                break\n",
    "            currentq = nextq\n",
    "            nextq = []\n",
    "        return sum1"
   ]
  }
 ],
 "metadata": {
  "kernelspec": {
   "display_name": "Python 3",
   "language": "python",
   "name": "python3"
  },
  "language_info": {
   "codemirror_mode": {
    "name": "ipython",
    "version": 3
   },
   "file_extension": ".py",
   "mimetype": "text/x-python",
   "name": "python",
   "nbconvert_exporter": "python",
   "pygments_lexer": "ipython3",
   "version": "3.7.1"
  }
 },
 "nbformat": 4,
 "nbformat_minor": 2
}
