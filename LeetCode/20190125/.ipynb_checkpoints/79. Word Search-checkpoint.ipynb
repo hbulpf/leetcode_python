{
 "cells": [
  {
   "cell_type": "code",
   "execution_count": 33,
   "metadata": {},
   "outputs": [
    {
     "name": "stdout",
     "output_type": "stream",
     "text": [
      "True\n"
     ]
    }
   ],
   "source": [
    "class Solution(object):\n",
    "    def exist(self, board, word):\n",
    "        \"\"\"\n",
    "        :type board: List[List[str]]\n",
    "        :type word: str\n",
    "        :rtype: bool\n",
    "        \"\"\"\n",
    "        import copy\n",
    "        if board == []:\n",
    "            return False\n",
    "        \n",
    "        def find1(i,j,m,a):\n",
    "            if not i in range(r):\n",
    "                return False\n",
    "            if not j in range(c):\n",
    "                return False\n",
    "            if a[i][j] == 1:\n",
    "                return False\n",
    "            if board[i][j] != word[m]:\n",
    "                return False\n",
    "            a[i][j] = 1\n",
    "            if m == len(word)-1 and board[i][j] == word[-1]:\n",
    "                return True\n",
    "            if m == len(word)-1 and board[i][j] != word[-1]:\n",
    "                return False\n",
    "            if (find1(i-1,j,m+1,a) or find1(i,j+1,m+1,a) or find1(i,j-1,m+1,a) or find1(i+1,j,m+1,a)):\n",
    "                return True\n",
    "            else:\n",
    "                a[i][j] = 0\n",
    "                return False\n",
    "            \n",
    "        \n",
    "        r = len(board)\n",
    "        c = len(board[0])\n",
    "        for i in range(r):\n",
    "            for j in range(c):\n",
    "                a = [[0]*c for row in range(r)]\n",
    "                if find1(i, j, 0, a):\n",
    "                    return True\n",
    "        return False\n",
    "\n",
    "b = Solution()   \n",
    "print(b.exist([[\"A\",\"B\",\"C\",\"E\"],[\"S\",\"F\",\"C\",\"S\"],[\"A\",\"D\",\"E\",\"E\"]], \"ABCCED\"))"
   ]
  },
  {
   "cell_type": "code",
   "execution_count": null,
   "metadata": {},
   "outputs": [],
   "source": []
  }
 ],
 "metadata": {
  "kernelspec": {
   "display_name": "Python 3",
   "language": "python",
   "name": "python3"
  },
  "language_info": {
   "codemirror_mode": {
    "name": "ipython",
    "version": 3
   },
   "file_extension": ".py",
   "mimetype": "text/x-python",
   "name": "python",
   "nbconvert_exporter": "python",
   "pygments_lexer": "ipython3",
   "version": "3.7.1"
  }
 },
 "nbformat": 4,
 "nbformat_minor": 2
}
