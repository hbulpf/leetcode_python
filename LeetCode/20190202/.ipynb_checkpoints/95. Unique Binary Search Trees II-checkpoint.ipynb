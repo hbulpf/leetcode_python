{
 "cells": [
  {
   "cell_type": "code",
   "execution_count": null,
   "metadata": {},
   "outputs": [],
   "source": [
    "# Definition for a binary tree node.\n",
    "# class TreeNode:\n",
    "#     def __init__(self, x):\n",
    "#         self.val = x\n",
    "#         self.left = None\n",
    "#         self.right = None\n",
    "\n",
    "class Solution:\n",
    "    \n",
    "    def __init__(self):\n",
    "        self.d = {}\n",
    "    \n",
    "    def func(self, start, end):\n",
    "        if start > end:\n",
    "            return [None]\n",
    "        if (start,end) in self.d:\n",
    "            return self.d[(start,end)]\n",
    "        a = []\n",
    "        for i in range(start, end+1):\n",
    "            ltree = self.func(start, i-1)\n",
    "            rtree = self.func(i+1, end)\n",
    "            for l in ltree:\n",
    "                for r in rtree:\n",
    "                    root = TreeNode(i)\n",
    "                    root.left = l\n",
    "                    root.right = r\n",
    "                    a.append(root)\n",
    "        self.d[(start, end)] = a\n",
    "        return a\n",
    "                    \n",
    "    \n",
    "    def generateTrees(self, n):\n",
    "        \"\"\"\n",
    "        :type n: int\n",
    "        :rtype: List[TreeNode]\n",
    "        \"\"\"\n",
    "        return self.func(1, n) if n > 0 else []"
   ]
  }
 ],
 "metadata": {
  "kernelspec": {
   "display_name": "Python 3",
   "language": "python",
   "name": "python3"
  },
  "language_info": {
   "codemirror_mode": {
    "name": "ipython",
    "version": 3
   },
   "file_extension": ".py",
   "mimetype": "text/x-python",
   "name": "python",
   "nbconvert_exporter": "python",
   "pygments_lexer": "ipython3",
   "version": "3.7.1"
  }
 },
 "nbformat": 4,
 "nbformat_minor": 2
}
