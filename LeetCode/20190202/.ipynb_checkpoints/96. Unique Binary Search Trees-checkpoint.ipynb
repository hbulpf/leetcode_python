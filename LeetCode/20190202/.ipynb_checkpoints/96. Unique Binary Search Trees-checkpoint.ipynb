{
 "cells": [
  {
   "cell_type": "code",
   "execution_count": null,
   "metadata": {},
   "outputs": [],
   "source": [
    "class Solution:\n",
    "    def numTrees(self, n):\n",
    "        \"\"\"\n",
    "        :type n: int\n",
    "        :rtype: int\n",
    "        \"\"\"\n",
    "        if not n:\n",
    "            return 1\n",
    "        sum1 = 0\n",
    "        for i in range(1,n+1):\n",
    "            sum1 += self.numTrees(i-1) * self.numTrees(n-i)\n",
    "        return sum1"
   ]
  },
  {
   "cell_type": "code",
   "execution_count": null,
   "metadata": {},
   "outputs": [],
   "source": [
    "class Solution:\n",
    "    def __init__(self):\n",
    "        self.d = {}\n",
    "\n",
    "    def numTrees(self, n):\n",
    "        \"\"\"\n",
    "        :type n: int\n",
    "        :rtype: int\n",
    "        \"\"\"\n",
    "        if not n:\n",
    "            return 1\n",
    "        sum1 = 0\n",
    "        for i in range(1,n+1):\n",
    "            a = self.d[i-1] if i-1 in self.d else self.numTrees(i-1)\n",
    "            b = self.d[n-i] if n-i in self.d else self.numTrees(n-i)\n",
    "            sum1 += a * b\n",
    "        self.d[n] = sum1\n",
    "        return sum1"
   ]
  }
 ],
 "metadata": {
  "kernelspec": {
   "display_name": "Python 3",
   "language": "python",
   "name": "python3"
  },
  "language_info": {
   "codemirror_mode": {
    "name": "ipython",
    "version": 3
   },
   "file_extension": ".py",
   "mimetype": "text/x-python",
   "name": "python",
   "nbconvert_exporter": "python",
   "pygments_lexer": "ipython3",
   "version": "3.7.1"
  }
 },
 "nbformat": 4,
 "nbformat_minor": 2
}
