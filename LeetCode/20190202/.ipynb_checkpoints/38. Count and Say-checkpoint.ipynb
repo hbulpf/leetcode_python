{
 "cells": [
  {
   "cell_type": "code",
   "execution_count": null,
   "metadata": {},
   "outputs": [],
   "source": [
    "class Solution:\n",
    "    def countAndSay(self, n):\n",
    "        \"\"\"\n",
    "        :type n: int\n",
    "        :rtype: str\n",
    "        \"\"\"\n",
    "        if n == 1:\n",
    "            return '1'\n",
    "        if n == 2:\n",
    "            return '11'\n",
    "        if n == 3:\n",
    "            return '21'\n",
    "        a = self.countAndSay(n-1)\n",
    "        t = '0'\n",
    "        count = 0\n",
    "        s = ''\n",
    "        for v in a:\n",
    "            if t == '0' or t == v:\n",
    "                count += 1\n",
    "                t = v\n",
    "            else:\n",
    "                c = str(count)\n",
    "                s += c + t\n",
    "                t = v\n",
    "                count = 1\n",
    "        c = str(count)\n",
    "        s += c + t\n",
    "        return s"
   ]
  }
 ],
 "metadata": {
  "kernelspec": {
   "display_name": "Python 3",
   "language": "python",
   "name": "python3"
  },
  "language_info": {
   "codemirror_mode": {
    "name": "ipython",
    "version": 3
   },
   "file_extension": ".py",
   "mimetype": "text/x-python",
   "name": "python",
   "nbconvert_exporter": "python",
   "pygments_lexer": "ipython3",
   "version": "3.7.1"
  }
 },
 "nbformat": 4,
 "nbformat_minor": 2
}
