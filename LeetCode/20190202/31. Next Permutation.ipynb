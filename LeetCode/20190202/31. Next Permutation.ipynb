{
 "cells": [
  {
   "cell_type": "code",
   "execution_count": null,
   "metadata": {},
   "outputs": [],
   "source": [
    "class Solution:\n",
    "    import copy\n",
    "    def islast(self,nums):\n",
    "        for i in range(len(nums)-1):\n",
    "            if nums[i] < nums[i+1]:\n",
    "                return False\n",
    "        return True\n",
    "    def isfirst(self,nums):\n",
    "        for i in range(len(nums)-1):\n",
    "            if nums[i] > nums[i+1]:\n",
    "                return False\n",
    "        return True\n",
    "    \n",
    "        \n",
    "    def func(self, nums):\n",
    "        if self.isfirst(nums):\n",
    "            i = len(nums)-1\n",
    "            while nums[i] == nums[i-1]:\n",
    "                if i == 0:\n",
    "                    return nums\n",
    "                i -= 1\n",
    "            nums[i],nums[i-1] = nums[i-1],nums[i]\n",
    "            return nums\n",
    "        if self.islast(nums[1:]):\n",
    "            l = copy.deepcopy(nums)\n",
    "            l.sort()\n",
    "            ind = len(l) - 1 - l[::-1].index(nums[0])\n",
    "            if ind == len(nums) - 1:\n",
    "                return l\n",
    "            else:\n",
    "                t = l[ind+1]\n",
    "                ind = nums.index(t)\n",
    "                nums.pop(ind)\n",
    "                nums.sort()\n",
    "                nums.insert(0, t)\n",
    "                return nums\n",
    "        else:\n",
    "            l = self.func(nums[1:])\n",
    "            if not l:\n",
    "                l = [nums[0]]\n",
    "            else:\n",
    "                l.insert(0, nums[0])\n",
    "            return l\n",
    "        \n",
    "    def nextPermutation(self, nums):\n",
    "        \"\"\"\n",
    "        :type nums: List[int]\n",
    "        :rtype: void Do not return anything, modify nums in-place instead.\n",
    "        \"\"\"\n",
    "        if len(nums) <= 1:\n",
    "            return \n",
    "        l = self.func(nums)\n",
    "        for i in range(len(nums)):\n",
    "            nums[i] = l[i]\n",
    "        return"
   ]
  }
 ],
 "metadata": {
  "kernelspec": {
   "display_name": "Python 3",
   "language": "python",
   "name": "python3"
  },
  "language_info": {
   "codemirror_mode": {
    "name": "ipython",
    "version": 3
   },
   "file_extension": ".py",
   "mimetype": "text/x-python",
   "name": "python",
   "nbconvert_exporter": "python",
   "pygments_lexer": "ipython3",
   "version": "3.7.1"
  }
 },
 "nbformat": 4,
 "nbformat_minor": 2
}
