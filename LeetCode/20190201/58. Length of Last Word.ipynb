{
 "cells": [
  {
   "cell_type": "code",
   "execution_count": null,
   "metadata": {},
   "outputs": [],
   "source": [
    "class Solution:\n",
    "    def lengthOfLastWord(self, s):\n",
    "        \"\"\"\n",
    "        :type s: str\n",
    "        :rtype: int\n",
    "        \"\"\"\n",
    "        s = s[::-1]\n",
    "        i = 0\n",
    "        if not s:\n",
    "            return 0\n",
    "        while s[i] == ' ':\n",
    "            i += 1\n",
    "            if i == len(s):\n",
    "                return 0\n",
    "        j = i\n",
    "        while s[i] != ' ':\n",
    "            i += 1\n",
    "            if i == len(s):\n",
    "                return i-j\n",
    "        return i-j"
   ]
  }
 ],
 "metadata": {
  "kernelspec": {
   "display_name": "Python 3",
   "language": "python",
   "name": "python3"
  },
  "language_info": {
   "codemirror_mode": {
    "name": "ipython",
    "version": 3
   },
   "file_extension": ".py",
   "mimetype": "text/x-python",
   "name": "python",
   "nbconvert_exporter": "python",
   "pygments_lexer": "ipython3",
   "version": "3.7.1"
  }
 },
 "nbformat": 4,
 "nbformat_minor": 2
}
