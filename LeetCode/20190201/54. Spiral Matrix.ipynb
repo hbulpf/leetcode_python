{
 "cells": [
  {
   "cell_type": "code",
   "execution_count": null,
   "metadata": {},
   "outputs": [],
   "source": [
    "class Solution:\n",
    "    def spiralOrder(self, matrix):\n",
    "        \"\"\"\n",
    "        :type matrix: List[List[int]]\n",
    "        :rtype: List[int]\n",
    "        \"\"\"\n",
    "        if not matrix:\n",
    "            return []\n",
    "        r = len(matrix)\n",
    "        c = len(matrix[0])\n",
    "        i = j = 0\n",
    "        l = []\n",
    "        while True:\n",
    "            while j < c and matrix[i][j] != '*':\n",
    "                l.append(matrix[i][j])\n",
    "                matrix[i][j] = '*'\n",
    "                j += 1\n",
    "            j -= 1\n",
    "            i += 1\n",
    "            if not 0<=i<r or not 0<=j<c or matrix[i][j] == '*':\n",
    "                break\n",
    "            while i < r and matrix[i][j] != '*':\n",
    "                l.append(matrix[i][j])\n",
    "                matrix[i][j] = '*'\n",
    "                i += 1\n",
    "            i -= 1\n",
    "            j -= 1\n",
    "            if not 0<=i<r or not 0<=j<c or matrix[i][j] == '*':\n",
    "                break\n",
    "            while j >= 0 and matrix[i][j] != '*':\n",
    "                l.append(matrix[i][j])\n",
    "                matrix[i][j] = '*'\n",
    "                j -= 1\n",
    "            j += 1\n",
    "            i -= 1\n",
    "            if not 0<=i<r or not 0<=j<c or matrix[i][j] == '*':\n",
    "                break\n",
    "            while i >= 0 and matrix[i][j] != '*':\n",
    "                l.append(matrix[i][j])\n",
    "                matrix[i][j] = '*'\n",
    "                i -= 1\n",
    "            i += 1\n",
    "            j += 1\n",
    "            if not 0<=i<r or not 0<=j<c or matrix[i][j] == '*':\n",
    "                break\n",
    "        return l"
   ]
  }
 ],
 "metadata": {
  "kernelspec": {
   "display_name": "Python 3",
   "language": "python",
   "name": "python3"
  },
  "language_info": {
   "codemirror_mode": {
    "name": "ipython",
    "version": 3
   },
   "file_extension": ".py",
   "mimetype": "text/x-python",
   "name": "python",
   "nbconvert_exporter": "python",
   "pygments_lexer": "ipython3",
   "version": "3.7.1"
  }
 },
 "nbformat": 4,
 "nbformat_minor": 2
}
