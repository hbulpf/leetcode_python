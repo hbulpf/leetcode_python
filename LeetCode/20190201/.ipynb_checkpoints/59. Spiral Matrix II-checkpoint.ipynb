{
 "cells": [
  {
   "cell_type": "code",
   "execution_count": null,
   "metadata": {},
   "outputs": [],
   "source": [
    "class Solution:\n",
    "    def generateMatrix(self, n):\n",
    "        \"\"\"\n",
    "        :type n: int\n",
    "        :rtype: List[List[int]]\n",
    "        \"\"\"\n",
    "        matrix = [[0 for i in range(n)] for i in range(n)]\n",
    "        r = n\n",
    "        c = n\n",
    "        i = j = 0\n",
    "        k = 1\n",
    "        while True:\n",
    "            while j < c and not matrix[i][j]:\n",
    "                matrix[i][j] = k\n",
    "                k += 1\n",
    "                j += 1\n",
    "            j -= 1\n",
    "            i += 1\n",
    "            if not 0<=i<r or not 0<=j<c or matrix[i][j]:\n",
    "                break\n",
    "            while i < r and not matrix[i][j]:\n",
    "                matrix[i][j] = k\n",
    "                k += 1\n",
    "                i += 1\n",
    "            i -= 1\n",
    "            j -= 1\n",
    "            if not 0<=i<r or not 0<=j<c or matrix[i][j]:\n",
    "                break\n",
    "            while j >= 0 and not matrix[i][j]:\n",
    "                matrix[i][j] = k\n",
    "                k += 1\n",
    "                j -= 1\n",
    "            j += 1\n",
    "            i -= 1\n",
    "            if not 0<=i<r or not 0<=j<c or matrix[i][j]:\n",
    "                break\n",
    "            while i >= 0 and not matrix[i][j]:\n",
    "                matrix[i][j] = k\n",
    "                k += 1\n",
    "                i -= 1\n",
    "            i += 1\n",
    "            j += 1\n",
    "            if not 0<=i<r or not 0<=j<c or matrix[i][j]:\n",
    "                break\n",
    "        return matrix        "
   ]
  }
 ],
 "metadata": {
  "kernelspec": {
   "display_name": "Python 3",
   "language": "python",
   "name": "python3"
  },
  "language_info": {
   "codemirror_mode": {
    "name": "ipython",
    "version": 3
   },
   "file_extension": ".py",
   "mimetype": "text/x-python",
   "name": "python",
   "nbconvert_exporter": "python",
   "pygments_lexer": "ipython3",
   "version": "3.7.1"
  }
 },
 "nbformat": 4,
 "nbformat_minor": 2
}
