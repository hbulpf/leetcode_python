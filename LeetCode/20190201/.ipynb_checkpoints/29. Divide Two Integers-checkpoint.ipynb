{
 "cells": [
  {
   "cell_type": "code",
   "execution_count": null,
   "metadata": {},
   "outputs": [],
   "source": [
    "class Solution:\n",
    "    def divide(self, dividend, divisor):\n",
    "        \"\"\"\n",
    "        :type dividend: int\n",
    "        :type divisor: int\n",
    "        :rtype: int\n",
    "        \"\"\"\n",
    "        if dividend >= 0 or dividend*divisor >= 0:\n",
    "            if divisor < 0 and dividend >= 0:\n",
    "                pos = -1\n",
    "            else:\n",
    "                pos = 1\n",
    "            divisor = abs(divisor)\n",
    "            dividend = abs(dividend)\n",
    "            op = 0\n",
    "            while dividend >= divisor:\n",
    "                op += 1\n",
    "                dividend -= divisor\n",
    "            return pos*op\n",
    "        else:\n",
    "            divisor = abs(divisor)\n",
    "            op = 0\n",
    "            while dividend >= divisor:\n",
    "                op += 1\n",
    "                dividend -= divisor\n",
    "            return -(op+1)"
   ]
  },
  {
   "cell_type": "code",
   "execution_count": null,
   "metadata": {},
   "outputs": [],
   "source": [
    "import math\n",
    "class Solution:\n",
    "    def divide(self, dividend, divisor):\n",
    "        \"\"\"\n",
    "        :type dividend: int\n",
    "        :type divisor: int\n",
    "        :rtype: int\n",
    "        \"\"\"\n",
    "        if dividend == 0:\n",
    "            return 0\n",
    "        k = -1 if (dividend >0) == (divisor <0) else 1\n",
    "        divisor = abs(divisor)\n",
    "        dividend = abs(dividend)\n",
    "        if dividend < divisor:\n",
    "            return 0\n",
    "        i = 1\n",
    "        t = math.log(dividend,10) - math.log(divisor,10)\n",
    "        i = 10**t\n",
    "        i = int(i) +1 if i - int(i) > 0.9999 else int(i)\n",
    "        i = k*i\n",
    "        if i > 2**31 -1 or i < -2**31:\n",
    "            return 2**31 -1\n",
    "        return i"
   ]
  }
 ],
 "metadata": {
  "kernelspec": {
   "display_name": "Python 3",
   "language": "python",
   "name": "python3"
  },
  "language_info": {
   "codemirror_mode": {
    "name": "ipython",
    "version": 3
   },
   "file_extension": ".py",
   "mimetype": "text/x-python",
   "name": "python",
   "nbconvert_exporter": "python",
   "pygments_lexer": "ipython3",
   "version": "3.7.1"
  }
 },
 "nbformat": 4,
 "nbformat_minor": 2
}
