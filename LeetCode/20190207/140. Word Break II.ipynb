{
 "cells": [
  {
   "cell_type": "code",
   "execution_count": null,
   "metadata": {},
   "outputs": [],
   "source": [
    "class Solution:\n",
    "    def wordBreak(self, s: 'str', wordDict: 'List[str]') -> 'List[str]':\n",
    "        import copy\n",
    "        state = [[0,[]] for _ in range(len(s)+1)]\n",
    "        state[0] = [1, ['']]\n",
    "        for i in range(1, len(s)+1):\n",
    "            for j in range(i):\n",
    "                if not state[j][0]:\n",
    "                    continue\n",
    "                if s[j:i] in wordDict:\n",
    "                    state[i][0] = 1\n",
    "                    t = copy.deepcopy(state[j][1])\n",
    "                    for v in t:\n",
    "                        state[i][1].append(v+' '+s[j:i])\n",
    "        if not state[-1][0]:\n",
    "            return []\n",
    "        else:\n",
    "            state[-1][1] = list(map(lambda x: x.strip(), state[-1][1]))\n",
    "            return state[-1][1]"
   ]
  },
  {
   "cell_type": "code",
   "execution_count": null,
   "metadata": {},
   "outputs": [],
   "source": [
    "class Solution:\n",
    "    def wordBreak(self, s: 'str', wordDict: 'List[str]') -> 'List[str]':\n",
    "        import copy\n",
    "        memo = {0: ['']}\n",
    "        for i in range(1, len(s)+1):\n",
    "            for j in range(i):\n",
    "                if not j in memo:\n",
    "                    continue\n",
    "                if s[j:i] in wordDict:\n",
    "                    if not i in memo:\n",
    "                        memo[i] = []\n",
    "                    t = copy.deepcopy(memo[j])\n",
    "                    for v in t:\n",
    "                        memo[i].append(v+' '+s[j:i])\n",
    "        if not len(s) in memo:\n",
    "            return []\n",
    "        else:\n",
    "            memo[len(s)] = list(map(lambda x: x.strip(), memo[len(s)]))\n",
    "            return memo[len(s)]"
   ]
  },
  {
   "cell_type": "code",
   "execution_count": null,
   "metadata": {},
   "outputs": [],
   "source": [
    "def wordBreak(self, s, wordDict):\n",
    "    memo = {len(s): ['']}\n",
    "    def sentences(i):\n",
    "        if i not in memo:\n",
    "            memo[i] = [s[i:j] + (tail and ' ' + tail)\n",
    "                       for j in range(i+1, len(s)+1)\n",
    "                       if s[i:j] in wordDict\n",
    "                       for tail in sentences(j)]\n",
    "        return memo[i]\n",
    "    return sentences(0)"
   ]
  }
 ],
 "metadata": {
  "kernelspec": {
   "display_name": "Python 3",
   "language": "python",
   "name": "python3"
  },
  "language_info": {
   "codemirror_mode": {
    "name": "ipython",
    "version": 3
   },
   "file_extension": ".py",
   "mimetype": "text/x-python",
   "name": "python",
   "nbconvert_exporter": "python",
   "pygments_lexer": "ipython3",
   "version": "3.7.1"
  }
 },
 "nbformat": 4,
 "nbformat_minor": 2
}
