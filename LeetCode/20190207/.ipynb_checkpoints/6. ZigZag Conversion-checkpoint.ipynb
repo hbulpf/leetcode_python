{
 "cells": [
  {
   "cell_type": "code",
   "execution_count": null,
   "metadata": {},
   "outputs": [],
   "source": [
    "class Solution:\n",
    "    def convert(self, s: 'str', numRows: 'int') -> 'str':\n",
    "        n = numRows\n",
    "        if n == 1:\n",
    "            return s\n",
    "        if n == 2:\n",
    "            st = ''\n",
    "            i = 0\n",
    "            while i < len(s):\n",
    "                st += s[i]\n",
    "                i += 2\n",
    "            i = 1\n",
    "            while i < len(s):\n",
    "                st += s[i]\n",
    "                i += 2\n",
    "            return st\n",
    "        t = 2*(n-1)\n",
    "        st = ''\n",
    "        i = 0\n",
    "        while i < len(s):\n",
    "            st += s[i]\n",
    "            i += t\n",
    "        for i in range(1, n-1):\n",
    "            j = i\n",
    "            while j < len(s):\n",
    "                st += s[j]\n",
    "                j += t-2*i\n",
    "                if j >= len(s):\n",
    "                    break\n",
    "                st += s[j]\n",
    "                j += 2*i\n",
    "        i = n-1\n",
    "        while i < len(s):\n",
    "            st += s[i]\n",
    "            i += t\n",
    "        return st"
   ]
  }
 ],
 "metadata": {
  "kernelspec": {
   "display_name": "Python 3",
   "language": "python",
   "name": "python3"
  },
  "language_info": {
   "codemirror_mode": {
    "name": "ipython",
    "version": 3
   },
   "file_extension": ".py",
   "mimetype": "text/x-python",
   "name": "python",
   "nbconvert_exporter": "python",
   "pygments_lexer": "ipython3",
   "version": "3.7.1"
  }
 },
 "nbformat": 4,
 "nbformat_minor": 2
}
