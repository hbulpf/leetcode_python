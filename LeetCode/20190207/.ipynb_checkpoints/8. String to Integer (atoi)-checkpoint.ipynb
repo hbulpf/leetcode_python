{
 "cells": [
  {
   "cell_type": "code",
   "execution_count": null,
   "metadata": {},
   "outputs": [],
   "source": [
    "class Solution:\n",
    "    def myAtoi(self, str: 'str') -> 'int':\n",
    "        num = {'0', '1', '2', '3', '4', '5', '6', '7', '8', '9', '+', '-'}\n",
    "        sign = {'+', '-'}\n",
    "        s = str.strip()\n",
    "        s1 = ''\n",
    "        if not s:\n",
    "            return 0\n",
    "        if not s[0] in num:\n",
    "            return 0\n",
    "        for i,v in enumerate(s):\n",
    "            if i != 0 and v in sign:\n",
    "                break\n",
    "            if not v in num:\n",
    "                break\n",
    "            if (s1 in sign or not s1) and v == '0':\n",
    "                continue\n",
    "            s1 += v\n",
    "        if not s1 or s1 == '+' or s1 == '-':\n",
    "            return 0\n",
    "        n = int(s1)\n",
    "        if n >= 2**31-1:\n",
    "            n = 2**31-1\n",
    "        if n <= -2**31:\n",
    "            n = -2**31\n",
    "        return n"
   ]
  }
 ],
 "metadata": {
  "kernelspec": {
   "display_name": "Python 3",
   "language": "python",
   "name": "python3"
  },
  "language_info": {
   "codemirror_mode": {
    "name": "ipython",
    "version": 3
   },
   "file_extension": ".py",
   "mimetype": "text/x-python",
   "name": "python",
   "nbconvert_exporter": "python",
   "pygments_lexer": "ipython3",
   "version": "3.7.1"
  }
 },
 "nbformat": 4,
 "nbformat_minor": 2
}
