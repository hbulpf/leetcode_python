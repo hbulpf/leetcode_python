{
 "cells": [
  {
   "cell_type": "code",
   "execution_count": null,
   "metadata": {},
   "outputs": [],
   "source": [
    "class Solution:\n",
    "    def minPathSum(self, grid: 'List[List[int]]') -> 'int':\n",
    "        if not len(grid):\n",
    "            return 0\n",
    "        if len(grid) == 1:\n",
    "            return sum(grid[0])\n",
    "        m = len(grid)\n",
    "        n = len(grid[0])\n",
    "        for i in range(1,n):\n",
    "            grid[0][i] += grid[0][i-1]\n",
    "        for j in range(1,m):\n",
    "            grid[j][0] += grid[j-1][0]\n",
    "            for i in range(1,n):\n",
    "                grid[j][i] += min(grid[j-1][i],grid[j][i-1])\n",
    "        return (grid[-1][-1])"
   ]
  }
 ],
 "metadata": {
  "kernelspec": {
   "display_name": "Python 3",
   "language": "python",
   "name": "python3"
  },
  "language_info": {
   "codemirror_mode": {
    "name": "ipython",
    "version": 3
   },
   "file_extension": ".py",
   "mimetype": "text/x-python",
   "name": "python",
   "nbconvert_exporter": "python",
   "pygments_lexer": "ipython3",
   "version": "3.7.1"
  }
 },
 "nbformat": 4,
 "nbformat_minor": 2
}
