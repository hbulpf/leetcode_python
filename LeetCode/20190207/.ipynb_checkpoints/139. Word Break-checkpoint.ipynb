{
 "cells": [
  {
   "cell_type": "code",
   "execution_count": null,
   "metadata": {},
   "outputs": [],
   "source": [
    "class Solution:\n",
    "    def wordBreak(self, s: 'str', wordDict: 'List[str]') -> 'bool':\n",
    "        s = s[::-1]\n",
    "        l = 0\n",
    "        r = 0\n",
    "        flag = 0\n",
    "        while True:\n",
    "            while True:\n",
    "                if r >= len(s):\n",
    "                    return False\n",
    "                if not flag:\n",
    "                    a = s[r:l:-1]\n",
    "                    a += s[0]\n",
    "                else:\n",
    "                    a = s[r:l:-1]  \n",
    "                print(a,r,l)\n",
    "                if a in wordDict:\n",
    "                    flag = 1\n",
    "                    break\n",
    "                r += 1\n",
    "            if r == len(s)-1:\n",
    "                break\n",
    "            l = r\n",
    "            r += 1\n",
    "        return True"
   ]
  },
  {
   "cell_type": "code",
   "execution_count": null,
   "metadata": {},
   "outputs": [],
   "source": [
    "class Solution:\n",
    "    def wordBreak(self, s: 'str', wordDict: 'List[str]') -> 'bool':\n",
    "        state = [False for _ in range(len(s)+1)]\n",
    "        state[0] = True\n",
    "        for i in range(len(s)+1):\n",
    "            for j in range(i):\n",
    "                if not state[j]:\n",
    "                    continue \n",
    "                if s[j:i] in wordDict:\n",
    "                    state[i] = True \n",
    "        return state[-1]"
   ]
  }
 ],
 "metadata": {
  "kernelspec": {
   "display_name": "Python 3",
   "language": "python",
   "name": "python3"
  },
  "language_info": {
   "codemirror_mode": {
    "name": "ipython",
    "version": 3
   },
   "file_extension": ".py",
   "mimetype": "text/x-python",
   "name": "python",
   "nbconvert_exporter": "python",
   "pygments_lexer": "ipython3",
   "version": "3.7.1"
  }
 },
 "nbformat": 4,
 "nbformat_minor": 2
}
