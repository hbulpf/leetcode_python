{
 "cells": [
  {
   "cell_type": "code",
   "execution_count": null,
   "metadata": {},
   "outputs": [],
   "source": [
    "class Solution:\n",
    "    def subsets(self, nums: 'List[int]') -> 'List[List[int]]':\n",
    "        import copy\n",
    "        \n",
    "        if not nums:\n",
    "            return [[]]\n",
    "        \n",
    "        def func(a):\n",
    "            if len(a) == 1:\n",
    "                return [[],a]\n",
    "            t = func(a[1:])\n",
    "            s = copy.deepcopy(t)\n",
    "            for v in t:\n",
    "                v.append(a[0])\n",
    "            s += t\n",
    "            return s\n",
    "        \n",
    "        return func(nums)"
   ]
  }
 ],
 "metadata": {
  "kernelspec": {
   "display_name": "Python 3",
   "language": "python",
   "name": "python3"
  },
  "language_info": {
   "codemirror_mode": {
    "name": "ipython",
    "version": 3
   },
   "file_extension": ".py",
   "mimetype": "text/x-python",
   "name": "python",
   "nbconvert_exporter": "python",
   "pygments_lexer": "ipython3",
   "version": "3.7.1"
  }
 },
 "nbformat": 4,
 "nbformat_minor": 2
}
