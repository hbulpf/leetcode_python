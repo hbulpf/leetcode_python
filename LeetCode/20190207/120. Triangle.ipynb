{
 "cells": [
  {
   "cell_type": "code",
   "execution_count": null,
   "metadata": {},
   "outputs": [],
   "source": [
    "class Solution:\n",
    "    def minimumTotal(self, triangle: 'List[List[int]]') -> 'int':\n",
    "        if len(triangle) == 0:\n",
    "            return 0\n",
    "        if len(triangle) == 1:\n",
    "            return triangle[0][0]\n",
    "        for i in range(len(triangle)-2,-1,-1):\n",
    "            for j in range(i+1):\n",
    "                triangle[i][j] += min(triangle[i+1][j], triangle[i+1][j+1])\n",
    "        return triangle[0][0]"
   ]
  },
  {
   "cell_type": "code",
   "execution_count": null,
   "metadata": {},
   "outputs": [],
   "source": [
    "class Solution:\n",
    "    def minimumTotal(self, triangle: 'List[List[int]]') -> 'int':\n",
    "        if len(triangle) == 0:\n",
    "            return 0\n",
    "        if len(triangle) == 1:\n",
    "            return triangle[0][0]\n",
    "        l = list(map(lambda x: x[:-1], triangle))\n",
    "        l.pop(0)\n",
    "        r = list(map(lambda x: x[1:], triangle))\n",
    "        r.pop(0)\n",
    "        return triangle[0][0] + min(self.minimumTotal(l),self.minimumTotal(r))"
   ]
  }
 ],
 "metadata": {
  "kernelspec": {
   "display_name": "Python 3",
   "language": "python",
   "name": "python3"
  },
  "language_info": {
   "codemirror_mode": {
    "name": "ipython",
    "version": 3
   },
   "file_extension": ".py",
   "mimetype": "text/x-python",
   "name": "python",
   "nbconvert_exporter": "python",
   "pygments_lexer": "ipython3",
   "version": "3.7.1"
  }
 },
 "nbformat": 4,
 "nbformat_minor": 2
}
