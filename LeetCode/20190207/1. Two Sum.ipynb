{
 "cells": [
  {
   "cell_type": "code",
   "execution_count": null,
   "metadata": {},
   "outputs": [],
   "source": [
    "class Solution:\n",
    "    def twoSum(self, nums: 'List[int]', target: 'int') -> 'List[int]':\n",
    "        import copy\n",
    "        n = copy.deepcopy(nums)\n",
    "        nums.sort()\n",
    "        i = 0\n",
    "        j = len(nums)-1\n",
    "        while True:\n",
    "            if nums[i]+nums[j] == target:\n",
    "                break\n",
    "            if nums[i]+nums[j] < target:\n",
    "                i += 1\n",
    "            else:\n",
    "                j -= 1\n",
    "        i = n.index(nums[i])\n",
    "        j = len(n) - 1 - n[::-1].index(nums[j])\n",
    "        return [i,j]"
   ]
  }
 ],
 "metadata": {
  "kernelspec": {
   "display_name": "Python 3",
   "language": "python",
   "name": "python3"
  },
  "language_info": {
   "codemirror_mode": {
    "name": "ipython",
    "version": 3
   },
   "file_extension": ".py",
   "mimetype": "text/x-python",
   "name": "python",
   "nbconvert_exporter": "python",
   "pygments_lexer": "ipython3",
   "version": "3.7.1"
  }
 },
 "nbformat": 4,
 "nbformat_minor": 2
}
